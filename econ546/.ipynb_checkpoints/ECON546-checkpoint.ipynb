{
 "cells": [
  {
   "cell_type": "code",
   "execution_count": null,
   "metadata": {
    "collapsed": true
   },
   "outputs": [],
   "source": []
  },
  {
   "cell_type": "code",
   "execution_count": null,
   "metadata": {
    "collapsed": true
   },
   "outputs": [],
   "source": []
  },
  {
   "cell_type": "code",
   "execution_count": null,
   "metadata": {
    "collapsed": true
   },
   "outputs": [],
   "source": []
  },
  {
   "cell_type": "code",
   "execution_count": null,
   "metadata": {
    "collapsed": true
   },
   "outputs": [],
   "source": []
  },
  {
   "cell_type": "code",
   "execution_count": 4,
   "metadata": {
    "collapsed": true
   },
   "outputs": [],
   "source": [
    "#http://jpktd.blogspot.ca/2012/12/characteristic-functions-and-scipystats.html"
   ]
  },
  {
   "cell_type": "markdown",
   "metadata": {},
   "source": [
    "Jan 4, 2016"
   ]
  },
  {
   "cell_type": "markdown",
   "metadata": {},
   "source": [
    "### Characteristic function (probability theory)\n",
    "From Wikipedia, the free encyclopedia\n",
    "The characteristic function of a uniform U(–1,1) random variable. This function is real-valued because it corresponds to a random variable that is symmetric around the origin; however characteristic functions may generally be complex-valued.\n",
    "\n",
    "In probability theory and statistics, the characteristic function of any real-valued random variable completely defines its probability distribution. If a random variable admits a probability density function, then the characteristic function is the inverse Fourier transform of the probability density function. Thus it provides the basis of an alternative route to analytical results compared with working directly with probability density functions or cumulative distribution functions. There are particularly simple results for the characteristic functions of distributions defined by the weighted sums of random variables."
   ]
  },
  {
   "cell_type": "code",
   "execution_count": 5,
   "metadata": {
    "collapsed": true
   },
   "outputs": [],
   "source": [
    "#https://en.wikipedia.org/wiki/Characteristic_function_%28probability_theory%29"
   ]
  },
  {
   "cell_type": "markdown",
   "metadata": {},
   "source": [
    "Introduction\n",
    "\n",
    "The characteristic function provides an alternative way for describing a random variable. Similar to the cumulative distribution function,\n",
    "\n",
    "$$F_X(x) = \\operatorname{E} \\left [\\mathbf{1}_{\\{X\\leq x\\}} \\right]$$\n",
    "\n",
    "( where 1{X ≤ x} is the indicator function — it is equal to 1 when X ≤ x, and zero otherwise), which completely determines behavior and properties of the probability distribution of the random variable X, the characteristic function,\n",
    "\n",
    "$$\\varphi_X(t) = \\operatorname{E} \\left [ e^{itX} \\right ],$$\n",
    "\n",
    "also completely determines behavior and properties of the probability distribution of the random variable X. The two approaches are equivalent in the sense that knowing one of the functions it is always possible to find the other, yet they both provide different insight for understanding the features of the random variable. However, in particular cases, there can be differences in whether these functions can be represented as expressions involving simple standard functions.\n",
    "\n",
    "If a random variable admits a density function, then the characteristic function is its dual, in the sense that each of them is a Fourier transform of the other. If a random variable has a moment-generating function, then the domain of the characteristic function can be extended to the complex plane, and\n",
    "\n",
    "$$\\varphi_X(-it) = M_X(t). [1]$$\n",
    "\n",
    "Note however that the characteristic function of a distribution always exists, even when the probability density function or moment-generating function do not."
   ]
  },
  {
   "cell_type": "code",
   "execution_count": null,
   "metadata": {
    "collapsed": true
   },
   "outputs": [],
   "source": []
  },
  {
   "cell_type": "markdown",
   "metadata": {},
   "source": [
    "$    \\varphi_X(t) = \\operatorname{E} \\left [ e^{itX} \\right ], $"
   ]
  },
  {
   "cell_type": "code",
   "execution_count": null,
   "metadata": {
    "collapsed": true
   },
   "outputs": [],
   "source": []
  },
  {
   "cell_type": "markdown",
   "metadata": {},
   "source": [
    "Chi-squared χ2k \t  \\! \n",
    "\n",
    "\n",
    "$(1 - 2it)^{-k/2}$"
   ]
  },
  {
   "cell_type": "code",
   "execution_count": null,
   "metadata": {
    "collapsed": true
   },
   "outputs": [],
   "source": []
  },
  {
   "cell_type": "code",
   "execution_count": null,
   "metadata": {
    "collapsed": true
   },
   "outputs": [],
   "source": []
  },
  {
   "cell_type": "code",
   "execution_count": null,
   "metadata": {
    "collapsed": true
   },
   "outputs": [],
   "source": []
  },
  {
   "cell_type": "code",
   "execution_count": null,
   "metadata": {
    "collapsed": true
   },
   "outputs": [],
   "source": []
  },
  {
   "cell_type": "code",
   "execution_count": null,
   "metadata": {
    "collapsed": true
   },
   "outputs": [],
   "source": []
  },
  {
   "cell_type": "code",
   "execution_count": null,
   "metadata": {
    "collapsed": true
   },
   "outputs": [],
   "source": []
  },
  {
   "cell_type": "code",
   "execution_count": null,
   "metadata": {
    "collapsed": true
   },
   "outputs": [],
   "source": [
    "### "
   ]
  },
  {
   "cell_type": "markdown",
   "metadata": {},
   "source": [
    "### Moment-generating function\n",
    "Definition\n",
    "\n",
    "In probability theory and statistics, the moment-generating function of a random variable X is\n",
    "\n",
    "$$M_{X}(t):=\\mathbb {E} \\!\\left[e^{tX}\\right],\\quad t\\in \\mathbb {R} ,$$\n",
    "\n",
    "wherever this expectation exists. In other terms, the moment-generating function can be interpreted as the expectation of the random variable $e^{tX}$.\n",
    "\n",
    "$M_{X}(0)$ always exists and is equal to 1."
   ]
  },
  {
   "cell_type": "code",
   "execution_count": null,
   "metadata": {
    "collapsed": true
   },
   "outputs": [],
   "source": []
  },
  {
   "cell_type": "code",
   "execution_count": null,
   "metadata": {
    "collapsed": true
   },
   "outputs": [],
   "source": [
    "# https://en.wikipedia.org/wiki/Moment-generating_function"
   ]
  },
  {
   "cell_type": "markdown",
   "metadata": {},
   "source": [
    "A key problem with moment-generating functions is that moments and the moment-generating function may not exist, as the integrals need not converge absolutely. By contrast, the characteristic function always exists (because it is the integral of a bounded function on a space of finite measure), and thus may be used instead.\n",
    "\n",
    "More generally, where $\\mathbf {X} =(X_{1},\\ldots ,X_{n})T$, an n-dimensional random vector, one uses $\\mathbf {t} \\cdot \\mathbf {X} =\\mathbf {t} ^{\\mathrm {T} }\\mathbf {X}$ instead of $tX$:\n",
    "\n",
    "$$M_{\\mathbf {X} }(\\mathbf {t} ):=\\mathbb {E} \\!\\left(e^{\\mathbf {t} ^{\\mathrm {T} }\\mathbf {X} }\\right).$$\n",
    "\n",
    "The reason for defining this function is that it can be used to find all the moments of the distribution.[1] The series expansion of $e^tX$ is:\n",
    "\n",
    "$$e^{t\\,X}=1+t\\,X+{\\frac {t^{2}\\,X^{2}}{2!}}+{\\frac {t^{3}\\,X^{3}}{3!}}+\\cdots +{\\frac {t^{n}\\,X^{n}}{n!}}+\\cdots .$$\n",
    "\n",
    "Hence:\n",
    "\n",
    "$${\\begin{aligned}M_{X}(t)=\\mathbb {E} (e^{t\\,X})&=1+t\\,\\mathbb {E} (X)+{\\frac {t^{2}\\,\\mathbb {E} (X^{2})}{2!}}+{\\frac {t^{3}\\,\\mathbb {E} (X^{3})}{3!}}+\\cdots +{\\frac {t^{n}\\,\\mathbb {E} (X^{n})}{n!}}+\\cdots \\\\&=1+tm_{1}+{\\frac {t^{2}m_{2}}{2!}}+{\\frac {t^{3}m_{3}}{3!}}+\\cdots +{\\frac {t^{n}m_{n}}{n!}}+\\cdots ,\\end{aligned}}$$\n",
    "\n",
    "where $m_n$ is the $nth$ moment.\n",
    "\n",
    "Differentiating $MX(t)$ i times with respect to t and setting $t = 0$ we hence obtain the ith moment about the origin, mi, see Calculations of moments below."
   ]
  },
  {
   "cell_type": "code",
   "execution_count": null,
   "metadata": {
    "collapsed": true
   },
   "outputs": [],
   "source": []
  },
  {
   "cell_type": "code",
   "execution_count": null,
   "metadata": {
    "collapsed": true
   },
   "outputs": [],
   "source": []
  },
  {
   "cell_type": "markdown",
   "metadata": {},
   "source": [
    "Distribution \tMoment-generating function $MX(t)$ \tCharacteristic function $φ(t)`m$\n",
    "\n",
    "Chi-squared χ2k \t  $\\,(1-2t)^{-k/2}$ \t  $\\,(1-2it)^{-k/2}$"
   ]
  },
  {
   "cell_type": "markdown",
   "metadata": {},
   "source": [
    "### Definition of Sufficiency\n",
    "\n",
    "Sufficiency is the kind of topic in which it is probably best to just jump right in and state its definition. Let's do that!\n",
    "\n",
    "Definition. Let $X1, X2, ..., Xn$ be a random sample from a probability distribution with unknown parameter θ. Then, the statistic:\n",
    "\n",
    "$$Y=u(X1,X2,...,Xn)$$\n",
    "\n",
    "\n",
    "is said to be sufficient for θ if the conditional distribution of $X1, X2, ..., Xn$, given the statistic $Y$, does not depend on the parameter $θ$."
   ]
  },
  {
   "cell_type": "code",
   "execution_count": null,
   "metadata": {
    "collapsed": true
   },
   "outputs": [],
   "source": []
  },
  {
   "cell_type": "code",
   "execution_count": null,
   "metadata": {
    "collapsed": true
   },
   "outputs": [],
   "source": []
  },
  {
   "cell_type": "code",
   "execution_count": null,
   "metadata": {
    "collapsed": true
   },
   "outputs": [],
   "source": []
  },
  {
   "cell_type": "code",
   "execution_count": null,
   "metadata": {
    "collapsed": true
   },
   "outputs": [],
   "source": [
    "#https://onlinecourses.science.psu.edu/stat414/node/283"
   ]
  },
  {
   "cell_type": "markdown",
   "metadata": {},
   "source": [
    "### Factorization Theorem\n",
    "\n",
    "**Factorization Theorem**. Let $X1, X2, ..., Xn$ denote random variables with joint probability density function or joint probability mass function $f(x1, x2, ..., xn; θ)$, which depends on the parameter θ. Then, the statistic $Y=u(X1,X2,...,Xn)$\n",
    "\n",
    "$Y=u(X1,X2,...,Xn)$ is sufficient for $θ$ if and only if the p.d.f (or p.m.f.) can be factored into two components, that is:\n",
    "\n",
    "$$f(x_1, x_2, ... , x_n;\\theta) = \\phi [ u(x_1, x_2, ... , x_n);\\theta ] h(x_1, x_2, ... , x_n)$$\n",
    "\n",
    "\n",
    "where:\n",
    "\n",
    "$φ$ is a function that depends on the data $x1, x2, ..., xn$ only through the function $u(x1, x2,..., xn)$, and\n",
    "the function $h(x1, x2, ..., xn)$ does not depend on the parameter θ\n"
   ]
  },
  {
   "cell_type": "markdown",
   "metadata": {},
   "source": [
    "### statistical decision theory\n",
    "\n",
    "http://www.dictionaryofeconomics.com/article?id=pde2008_S000251\n",
    "\n",
    "\"The key idea in decision theory is to attempt a quantification of the gain or loss in taking possible actions. Since the gain or loss will usually depend upon θ as well as the action a taken, it is typically represented as a function of both. In economics this function is generally called the utility function, following the work of Frank Ramsey in the 1920s, and is denoted by U(θ, a). It is to be understood as the gain achieved if action a is taken and θ obtains. (The scale for measuring ‘gain’ will be discussed later.) In the statistical literature it is customary to talk in terms of loss instead of gain, with typical notation **L (θ, a) for the loss function**. Loss is just negative gain, so defining L(θ,a)=−U(θ,a) results in effective equivalence between the two formulations (whatever maximizes utility will minimize loss).\"\n",
    "\n",
    " \n",
    " "
   ]
  },
  {
   "cell_type": "markdown",
   "metadata": {},
   "source": [
    "\"The other important component of a decision problem is the information available about θ. This information will often arise from several sources, substantially complicating the job of mathematical modelling. We content ourselves here with consideration of the standard statistical scenario where there are available \n",
    "\n",
    "- (a) **data, X**, from a statistical experiment relating to θ; and \n",
    "\n",
    "- (b) background or **prior** information about θ, to be denoted by **π(θ)**. Note that either of these components could be absent.\n",
    "\""
   ]
  },
  {
   "cell_type": "markdown",
   "metadata": {},
   "source": [
    "\"The **data, X**, is typically modelled as arising from some **probability density pθ(X)**. This, of course, is to be interpreted as the probability (or probability density) of the particular data value when θ obtains.\""
   ]
  },
  {
   "cell_type": "markdown",
   "metadata": {},
   "source": [
    "\"The prior information about θ is typically also described by a **probability density π(θ)**. This density is the probability (or mass) given to each possible value of θ in the light of beliefs as to which values of θ are most likely.\""
   ]
  },
  {
   "cell_type": "markdown",
   "metadata": {},
   "source": [
    "##### 3 Frequentist decision theory\n",
    "An alternative approach to statistical decision theory arises from taking a ‘long run’ perspective. The idea is to imagine repeating the decision problem a large number of times, and to develop a decision strategy which will be optimal in terms of some long-run criterion. This is called the frequentist approach, and is essentially due to Neyman, Pearson and Wald (see Neyman and Pearson, 1933; Neyman, 1977; Wald, 1950).\n",
    "To formalize the above idea, let d(X) denote a decision strategy or **decision rule**. The notation reflects the fact that we are imaging repetitions of the decision problem which will yield possibly different data X, and must therefore specify the action to be taken for any possible X. The utility of using d(X) when θ obtains is thus **U(θ, d(X))**. The statistical literature almost exclusively works with loss functions instead of utility functions; for consistency with this literature we will thus use the loss function **L(θ,d)=−U(θ,d)**. (Of course, we want to minimize loss.)\n",
    "The first step in a frequentist evaluation is to compute the **risk function (expected loss over X) of d**, given by:\n",
    "$$R(θ,d)=E_θ {L(θ,d(X))}=∫L(θ,d(X))p_θ (X)dX.$$"
   ]
  },
  {
   "cell_type": "markdown",
   "metadata": {},
   "source": [
    "\"(Again, this integral should be a summation if X is discrete valued.) For a fixed θ this risk indicates **how well d(X) would perform** if utilized **repeatedly** for data arising from the probability density pθ(X). For various common choices of L this yields familiar statistical quantities. \n",
    "\n",
    "For instance, when L is 0 or 1, according to whether or not a correct decision is made in a two action **hypothesis testing** problem, the risk becomes the ‘probabilities of type I or type II errors’. \n",
    "\n",
    "\n",
    "When L is 0 or 1, according to whether or not an **interval d(X)** is contains θ, the risk is 1 minus the ‘coverage probability function’ for the confidence procedure d(X). \n",
    "\n",
    "\n",
    "When d(X) is an estimate of θ and **$L(θ,d)=(θ−d)^2$**, the risk is the ‘mean squared error’ commonly considered in many econometric studies. (If the estimator d(X) is unbiased, then this mean squared error is also the variance function for d.)\""
   ]
  },
  {
   "cell_type": "markdown",
   "metadata": {},
   "source": [
    "\"The second step of a frequentist analysis is to select some **criterion for defining optimal risk functions** (and hence optimal decision rules). One of the most common criteria is the minimax principle, which is based on consideration of the maximum possible risk:\n",
    "$$R^∗ (d)=max_θ R(θ,d).$$\n",
    "\n",
    "This indicates the **worst possible performance** of d(X) in repeated use, and hence has some appeal as a criterion based on a **cautious attitude**. Using this criterion, an optimal decision rule is, of course, defined as one which minimizes R*(d), and is called a **minimax decision rule**.\""
   ]
  },
  {
   "cell_type": "code",
   "execution_count": null,
   "metadata": {
    "collapsed": true
   },
   "outputs": [],
   "source": []
  },
  {
   "cell_type": "code",
   "execution_count": null,
   "metadata": {
    "collapsed": true
   },
   "outputs": [],
   "source": []
  },
  {
   "cell_type": "code",
   "execution_count": null,
   "metadata": {
    "collapsed": true
   },
   "outputs": [],
   "source": []
  },
  {
   "cell_type": "code",
   "execution_count": null,
   "metadata": {
    "collapsed": true
   },
   "outputs": [],
   "source": []
  },
  {
   "cell_type": "code",
   "execution_count": null,
   "metadata": {
    "collapsed": true
   },
   "outputs": [],
   "source": []
  },
  {
   "cell_type": "code",
   "execution_count": null,
   "metadata": {
    "collapsed": true
   },
   "outputs": [],
   "source": []
  },
  {
   "cell_type": "code",
   "execution_count": null,
   "metadata": {
    "collapsed": true
   },
   "outputs": [],
   "source": []
  },
  {
   "cell_type": "markdown",
   "metadata": {},
   "source": [
    "-------------------------------------\n",
    "An example using SymPy.stats to compute the characteristic function of a general Cauchy random variable. This is run in isympy (hence the pretty printing) "
   ]
  },
  {
   "cell_type": "code",
   "execution_count": 26,
   "metadata": {
    "collapsed": true
   },
   "outputs": [],
   "source": [
    "#http://docs.sympy.org/dev/modules/stats.html\n",
    "from sympy.stats import P, E, variance, Die, Normal\n",
    "from sympy import Eq, simplify"
   ]
  },
  {
   "cell_type": "code",
   "execution_count": 27,
   "metadata": {
    "collapsed": false
   },
   "outputs": [
    {
     "data": {
      "image/png": "[encoded data removed]",
      "text/latex": [
       "$$\\frac{1}{2}$$"
      ],
      "text/plain": [
       "1/2"
      ]
     },
     "execution_count": 27,
     "metadata": {},
     "output_type": "execute_result"
    }
   ],
   "source": [
    "\n",
    "X, Y = Die('X', 6), Die('Y', 6) # Define two six sided dice\n",
    "Z = Normal('Z', 0, 1) # Declare a Normal random variable with mean 0, std 1\n",
    "P(X>3) # Probability X is greater than 3"
   ]
  },
  {
   "cell_type": "code",
   "execution_count": 28,
   "metadata": {
    "collapsed": false
   },
   "outputs": [
    {
     "data": {
      "image/png": "[encoded data removed]",
      "text/latex": [
       "$$7$$"
      ],
      "text/plain": [
       "7"
      ]
     },
     "execution_count": 28,
     "metadata": {},
     "output_type": "execute_result"
    }
   ],
   "source": [
    "\n",
    "E(X+Y) # Expectation of the sum of two dice\n"
   ]
  },
  {
   "cell_type": "code",
   "execution_count": 29,
   "metadata": {
    "collapsed": false
   },
   "outputs": [
    {
     "data": {
      "image/png": "[encoded data removed]",
      "text/latex": [
       "$$\\frac{35}{6}$$"
      ],
      "text/plain": [
       "35/6"
      ]
     },
     "execution_count": 29,
     "metadata": {},
     "output_type": "execute_result"
    }
   ],
   "source": [
    "variance(X+Y) # Variance of the sum of two dice\n"
   ]
  },
  {
   "cell_type": "code",
   "execution_count": 30,
   "metadata": {
    "collapsed": false
   },
   "outputs": [
    {
     "data": {
      "image/png": "[encoded data removed]",
      "text/latex": [
       "$$- \\frac{1}{2} \\operatorname{erf}{\\left (\\frac{\\sqrt{2}}{2} \\right )} + \\frac{1}{2}$$"
      ],
      "text/plain": [
       "     ⎛  ___⎞    \n",
       "     ⎜╲╱ 2 ⎟    \n",
       "  erf⎜─────⎟    \n",
       "     ⎝  2  ⎠   1\n",
       "- ────────── + ─\n",
       "      2        2"
      ]
     },
     "execution_count": 30,
     "metadata": {},
     "output_type": "execute_result"
    }
   ],
   "source": [
    "simplify(P(Z>1)) # Probability of Z being greater than 1\n"
   ]
  },
  {
   "cell_type": "code",
   "execution_count": null,
   "metadata": {
    "collapsed": true
   },
   "outputs": [],
   "source": [
    "\n",
    "\n"
   ]
  },
  {
   "cell_type": "code",
   "execution_count": null,
   "metadata": {
    "collapsed": true
   },
   "outputs": [],
   "source": []
  },
  {
   "cell_type": "code",
   "execution_count": null,
   "metadata": {
    "collapsed": true
   },
   "outputs": [],
   "source": [
    "#http://matthewrocklin.com/blog/work/2012/12/03/Characteristic-Functions/"
   ]
  },
  {
   "cell_type": "code",
   "execution_count": null,
   "metadata": {
    "collapsed": true
   },
   "outputs": [],
   "source": []
  },
  {
   "cell_type": "code",
   "execution_count": null,
   "metadata": {
    "collapsed": true
   },
   "outputs": [],
   "source": []
  },
  {
   "cell_type": "code",
   "execution_count": null,
   "metadata": {
    "collapsed": true
   },
   "outputs": [],
   "source": []
  },
  {
   "cell_type": "code",
   "execution_count": 51,
   "metadata": {
    "collapsed": true
   },
   "outputs": [],
   "source": [
    "from sympy.stats import *\n",
    "\n",
    "from sympy import Symbol, sqrt"
   ]
  },
  {
   "cell_type": "code",
   "execution_count": 52,
   "metadata": {
    "collapsed": false
   },
   "outputs": [
    {
     "data": {
      "image/png": "[encoded data removed]",
      "text/latex": [
       "$$\\sqrt{5}$$"
      ],
      "text/plain": [
       "  ___\n",
       "╲╱ 5 "
      ]
     },
     "execution_count": 52,
     "metadata": {},
     "output_type": "execute_result"
    }
   ],
   "source": [
    "from sympy.interactive import init_printing\n",
    "init_printing(pretty_print=True)\n",
    "sqrt(5)"
   ]
  },
  {
   "cell_type": "markdown",
   "metadata": {},
   "source": [
    "An example using SymPy.stats to compute the characteristic function of a general Cauchy random variable. This is run in isympy (hence the pretty printing). "
   ]
  },
  {
   "cell_type": "code",
   "execution_count": null,
   "metadata": {
    "collapsed": true
   },
   "outputs": [],
   "source": []
  },
  {
   "cell_type": "code",
   "execution_count": null,
   "metadata": {
    "collapsed": true
   },
   "outputs": [],
   "source": []
  },
  {
   "cell_type": "code",
   "execution_count": 17,
   "metadata": {
    "collapsed": true
   },
   "outputs": [],
   "source": [
    "from sympy import *"
   ]
  },
  {
   "cell_type": "code",
   "execution_count": 18,
   "metadata": {
    "collapsed": false
   },
   "outputs": [
    {
     "name": "stderr",
     "output_type": "stream",
     "text": [
      "C:\\Users\\oldyu\\Anaconda3\\Lib\\site-packages\\sympy\\core\\symbol.py:80: SymPyDeprecationWarning: \n",
      "\n",
      "bounded assumption has been deprecated since SymPy 0.7.6. Use finite\n",
      "instead. See https://github.com/sympy/sympy/issues/8071 for more info.\n",
      "\n",
      "  deprecated_since_version=\"0.7.6\").warn()\n"
     ]
    }
   ],
   "source": [
    "x0 = Symbol('x0', real=True, bounded=True)"
   ]
  },
  {
   "cell_type": "code",
   "execution_count": 34,
   "metadata": {
    "collapsed": true
   },
   "outputs": [],
   "source": [
    "x0 = Symbol('x0', real=True)\n",
    "x = Symbol(\"x\")"
   ]
  },
  {
   "cell_type": "code",
   "execution_count": null,
   "metadata": {
    "collapsed": true
   },
   "outputs": [],
   "source": []
  },
  {
   "cell_type": "code",
   "execution_count": 35,
   "metadata": {
    "collapsed": true
   },
   "outputs": [],
   "source": [
    "gamma = Symbol('gamma', positive=True)"
   ]
  },
  {
   "cell_type": "code",
   "execution_count": 36,
   "metadata": {
    "collapsed": true
   },
   "outputs": [],
   "source": [
    "X = Cauchy('X', x0, gamma)"
   ]
  },
  {
   "cell_type": "code",
   "execution_count": 37,
   "metadata": {
    "collapsed": false
   },
   "outputs": [
    {
     "data": {
      "image/png": "[encoded data removed]",
      "text/latex": [
       "$$\\frac{1}{\\pi \\gamma \\left(1 + \\frac{1}{\\gamma^{2}} \\left(x - x_{0}\\right)^{2}\\right)}$$"
      ],
      "text/plain": [
       "         1         \n",
       "───────────────────\n",
       "    ⎛            2⎞\n",
       "    ⎜    (x - x₀) ⎟\n",
       "π⋅γ⋅⎜1 + ─────────⎟\n",
       "    ⎜         2   ⎟\n",
       "    ⎝        γ    ⎠"
      ]
     },
     "execution_count": 37,
     "metadata": {},
     "output_type": "execute_result"
    }
   ],
   "source": [
    "density(X)(x)"
   ]
  },
  {
   "cell_type": "code",
   "execution_count": null,
   "metadata": {
    "collapsed": true
   },
   "outputs": [],
   "source": []
  },
  {
   "cell_type": "code",
   "execution_count": null,
   "metadata": {
    "collapsed": true
   },
   "outputs": [],
   "source": []
  },
  {
   "cell_type": "code",
   "execution_count": 38,
   "metadata": {
    "collapsed": true
   },
   "outputs": [],
   "source": [
    "t = Symbol('t', positive=True)"
   ]
  },
  {
   "cell_type": "code",
   "execution_count": 39,
   "metadata": {
    "collapsed": false
   },
   "outputs": [
    {
     "data": {
      "image/png": "[encoded data removed]",
      "text/latex": [
       "$$\\frac{\\gamma}{\\pi} \\int_{-\\infty}^{\\infty} \\frac{e^{i X t}}{X^{2} - 2 X x_{0} + \\gamma^{2} + x_{0}^{2}}\\, dX$$"
      ],
      "text/plain": [
       "  ∞                           \n",
       "  ⌠                           \n",
       "  ⎮           ⅈ⋅X⋅t           \n",
       "  ⎮          ℯ                \n",
       "γ⋅⎮  ────────────────────── dX\n",
       "  ⎮   2             2     2   \n",
       "  ⎮  X  - 2⋅X⋅x₀ + γ  + x₀    \n",
       "  ⌡                           \n",
       "  -∞                          \n",
       "──────────────────────────────\n",
       "              π               "
      ]
     },
     "execution_count": 39,
     "metadata": {},
     "output_type": "execute_result"
    }
   ],
   "source": [
    "E(exp(I*t*X))"
   ]
  },
  {
   "cell_type": "code",
   "execution_count": 40,
   "metadata": {
    "collapsed": false
   },
   "outputs": [
    {
     "data": {
      "image/png": "[encoded data removed]",
      "text/latex": [
       "$$\\frac{\\gamma}{\\pi} \\int_{-\\infty}^{\\infty} \\frac{e^{i X t}}{X^{2} - 2 X x_{0} + \\gamma^{2} + x_{0}^{2}}\\, dX$$"
      ],
      "text/plain": [
       "  ∞                           \n",
       "  ⌠                           \n",
       "  ⎮           ⅈ⋅X⋅t           \n",
       "  ⎮          ℯ                \n",
       "γ⋅⎮  ────────────────────── dX\n",
       "  ⎮   2             2     2   \n",
       "  ⎮  X  - 2⋅X⋅x₀ + γ  + x₀    \n",
       "  ⌡                           \n",
       "  -∞                          \n",
       "──────────────────────────────\n",
       "              π               "
      ]
     },
     "execution_count": 40,
     "metadata": {},
     "output_type": "execute_result"
    }
   ],
   "source": [
    "simplify(E(exp(I*t*X)))"
   ]
  },
  {
   "cell_type": "code",
   "execution_count": null,
   "metadata": {
    "collapsed": true
   },
   "outputs": [],
   "source": []
  },
  {
   "cell_type": "code",
   "execution_count": null,
   "metadata": {
    "collapsed": true
   },
   "outputs": [],
   "source": []
  },
  {
   "cell_type": "code",
   "execution_count": null,
   "metadata": {
    "collapsed": true
   },
   "outputs": [],
   "source": [
    "#http://matthewrocklin.com/blog/work/2012/12/03/Characteristic-Functions/"
   ]
  },
  {
   "cell_type": "code",
   "execution_count": 44,
   "metadata": {
    "collapsed": false
   },
   "outputs": [
    {
     "data": {
      "image/png": "[encoded data removed]",
      "text/latex": [
       "$$\\frac{1}{\\sqrt{\\nu} \\left(1 + \\frac{x^{2}}{\\nu}\\right)^{\\frac{\\nu}{2} + \\frac{1}{2}} \\beta{\\left (\\frac{1}{2},\\frac{\\nu}{2} \\right )}}$$"
      ],
      "text/plain": [
       "          ν   1\n",
       "        - ─ - ─\n",
       "          2   2\n",
       "⎛     2⎞       \n",
       "⎜    x ⎟       \n",
       "⎜1 + ──⎟       \n",
       "⎝    ν ⎠       \n",
       "───────────────\n",
       "  ___  ⎛     ν⎞\n",
       "╲╱ ν ⋅β⎜1/2, ─⎟\n",
       "       ⎝     2⎠"
      ]
     },
     "execution_count": 44,
     "metadata": {},
     "output_type": "execute_result"
    }
   ],
   "source": [
    "nu = Symbol(\"nu\", positive=True)\n",
    "\n",
    "X = StudentT(\"x\", nu)\n",
    "\n",
    "density(X)(x)"
   ]
  },
  {
   "cell_type": "code",
   "execution_count": 45,
   "metadata": {
    "collapsed": false
   },
   "outputs": [],
   "source": [
    "t = Symbol('t', positive=True)\n"
   ]
  },
  {
   "cell_type": "code",
   "execution_count": 46,
   "metadata": {
    "collapsed": false
   },
   "outputs": [
    {
     "data": {
      "image/png": "[encoded data removed]",
      "text/latex": [
       "$$\\frac{\\sqrt{\\pi} \\nu^{\\frac{\\nu}{4}} t^{\\frac{\\nu}{2}} e^{- \\frac{i \\pi}{2} \\nu}}{2 \\cdot 2^{\\frac{\\nu}{2}} \\sin{\\left (\\frac{\\pi \\nu}{2} \\right )} \\beta{\\left (\\frac{1}{2},\\frac{\\nu}{2} \\right )} \\Gamma{\\left(\\frac{\\nu}{2} + \\frac{1}{2} \\right)}} \\left(2 \\pi e^{\\frac{i \\pi}{2} \\nu} I_{- \\frac{\\nu}{2}}\\left(\\sqrt{\\nu} t\\right) - e^{i \\pi \\nu} I_{\\frac{\\nu}{2}}\\left(\\sqrt{\\nu} t\\right) \\Gamma{\\left(- \\frac{\\nu}{2} + \\frac{1}{2} \\right)} \\Gamma{\\left(\\frac{\\nu}{2} + \\frac{1}{2} \\right)} - I_{\\frac{\\nu}{2}}\\left(\\sqrt{\\nu} t\\right) \\Gamma{\\left(- \\frac{\\nu}{2} + \\frac{1}{2} \\right)} \\Gamma{\\left(\\frac{\\nu}{2} + \\frac{1}{2} \\right)}\\right)$$"
      ],
      "text/plain": [
       " -ν         ν  ν ⎛     ⅈ⋅π⋅ν                                                  \n",
       " ───        ─  ─ ⎜     ─────                                                  \n",
       "  2    ___  4  2 ⎜       2          ⎛-ν     ___  ⎞    ⅈ⋅π⋅ν        ⎛ν    ___  \n",
       "2   ⋅╲╱ π ⋅ν ⋅t ⋅⎜2⋅π⋅ℯ     ⋅besseli⎜───, ╲╱ ν ⋅t⎟ - ℯ     ⋅besseli⎜─, ╲╱ ν ⋅t\n",
       "                 ⎝                  ⎝ 2          ⎠                 ⎝2         \n",
       "──────────────────────────────────────────────────────────────────────────────\n",
       "                                                                  ⎛π⋅ν⎞  ⎛    \n",
       "                                                             2⋅sin⎜───⎟⋅β⎜1/2,\n",
       "                                                                  ⎝ 2 ⎠  ⎝    \n",
       "\n",
       "                                                               ⎞  -ⅈ⋅π⋅ν \n",
       "                                                               ⎟  ───────\n",
       "⎞  ⎛  ν   1⎞  ⎛ν   1⎞          ⎛ν    ___  ⎞  ⎛  ν   1⎞  ⎛ν   1⎞⎟     2   \n",
       "⎟⋅Γ⎜- ─ + ─⎟⋅Γ⎜─ + ─⎟ - besseli⎜─, ╲╱ ν ⋅t⎟⋅Γ⎜- ─ + ─⎟⋅Γ⎜─ + ─⎟⎟⋅ℯ       \n",
       "⎠  ⎝  2   2⎠  ⎝2   2⎠          ⎝2         ⎠  ⎝  2   2⎠  ⎝2   2⎠⎠         \n",
       "─────────────────────────────────────────────────────────────────────────\n",
       " ν⎞  ⎛ν   1⎞                                                             \n",
       " ─⎟⋅Γ⎜─ + ─⎟                                                             \n",
       " 2⎠  ⎝2   2⎠                                                             "
      ]
     },
     "execution_count": 46,
     "metadata": {},
     "output_type": "execute_result"
    }
   ],
   "source": [
    "simplify(E(exp(I*t*X)))"
   ]
  },
  {
   "cell_type": "markdown",
   "metadata": {},
   "source": [
    "The bold scripted I’s are besseli functions. We restrict this expression to a specific number of degrees of freedom, setting nu = 50\n",
    "\n"
   ]
  },
  {
   "cell_type": "code",
   "execution_count": 56,
   "metadata": {
    "collapsed": false
   },
   "outputs": [
    {
     "data": {
      "image/png": "[encoded data removed]",
      "text/latex": [
       "$$e^{i \\mu t - \\frac{\\sigma^{2} t^{2}}{2}}$$"
      ],
      "text/plain": [
       "          2  2\n",
       "         σ ⋅t \n",
       " ⅈ⋅μ⋅t - ─────\n",
       "           2  \n",
       "ℯ             "
      ]
     },
     "execution_count": 56,
     "metadata": {},
     "output_type": "execute_result"
    }
   ],
   "source": [
    "simplify(E(exp(I*t*X))).subs(nu, 50)  # replace nu with 50"
   ]
  },
  {
   "cell_type": "code",
   "execution_count": 57,
   "metadata": {
    "collapsed": false
   },
   "outputs": [
    {
     "data": {
      "image/png": "[encoded data removed]",
      "text/latex": [
       "$$\\frac{1}{58435841445947272053455474390625 \\pi \\beta{\\left (\\frac{1}{2},25 \\right )}} \\left(16777216 {G_{1, 3}^{3, 1}\\left(\\begin{matrix} \\frac{1}{2} &  \\\\25, 0, \\frac{1}{2} &  \\end{matrix} \\middle| {\\frac{25 t^{2}}{2} e^{- i \\pi}} \\right)} + 16777216 {G_{1, 3}^{3, 1}\\left(\\begin{matrix} \\frac{1}{2} &  \\\\25, 0, \\frac{1}{2} &  \\end{matrix} \\middle| {\\frac{25 t^{2}}{2} e^{i \\pi}} \\right)}\\right)$$"
      ],
      "text/plain": [
       "         ⎛        ⎛              │     2  -ⅈ⋅π⎞           ⎛              │    \n",
       "         ⎜╭─╮3, 1 ⎜   1/2        │ 25⋅t ⋅ℯ    ⎟   ╭─╮3, 1 ⎜   1/2        │ 25⋅\n",
       "16777216⋅⎜│╶┐     ⎜              │ ───────────⎟ + │╶┐     ⎜              │ ───\n",
       "         ⎝╰─╯1, 3 ⎝25, 0, 1/2    │      2     ⎠   ╰─╯1, 3 ⎝25, 0, 1/2    │    \n",
       "──────────────────────────────────────────────────────────────────────────────\n",
       "                     58435841445947272053455474390625⋅π⋅β(1/2, 25)            \n",
       "\n",
       " 2  ⅈ⋅π⎞⎞\n",
       "t ⋅ℯ   ⎟⎟\n",
       "───────⎟⎟\n",
       " 2     ⎠⎠\n",
       "─────────\n",
       "         "
      ]
     },
     "execution_count": 57,
     "metadata": {},
     "output_type": "execute_result"
    }
   ],
   "source": [
    "X = StudentT('X', 50)\n",
    "simplify(E(exp(I*t*X)))"
   ]
  },
  {
   "cell_type": "code",
   "execution_count": null,
   "metadata": {
    "collapsed": true
   },
   "outputs": [],
   "source": []
  },
  {
   "cell_type": "code",
   "execution_count": null,
   "metadata": {
    "collapsed": true
   },
   "outputs": [],
   "source": []
  },
  {
   "cell_type": "code",
   "execution_count": 53,
   "metadata": {
    "collapsed": true
   },
   "outputs": [],
   "source": [
    "mu = Symbol(\"mu\")\n",
    "sigma = Symbol(\"sigma\", positive=True)"
   ]
  },
  {
   "cell_type": "code",
   "execution_count": null,
   "metadata": {
    "collapsed": true
   },
   "outputs": [],
   "source": []
  },
  {
   "cell_type": "code",
   "execution_count": 54,
   "metadata": {
    "collapsed": false
   },
   "outputs": [
    {
     "data": {
      "image/png": "[encoded data removed]",
      "text/latex": [
       "$$\\frac{\\sqrt{2} i \\sigma e^{- \\frac{\\mu^{2}}{2 \\sigma^{2}}}}{2 \\pi \\left(- i \\mu + \\sigma^{2} t\\right)} \\left(- \\frac{\\sqrt{2} i \\pi}{2 \\sigma} \\left(- i \\mu + \\sigma^{2} t\\right) e^{- \\frac{1}{2 \\sigma^{2}} \\left(- i \\mu + \\sigma^{2} t\\right)^{2}} \\operatorname{erf}{\\left (\\frac{\\sqrt{2} i}{2 \\sigma} \\left(- i \\mu + \\sigma^{2} t\\right) \\right )} - \\frac{\\sqrt{2} i \\pi}{2 \\sigma} \\left(- i \\mu + \\sigma^{2} t\\right) e^{- \\frac{1}{2 \\sigma^{2}} \\left(- i \\mu + \\sigma^{2} t\\right)^{2}}\\right) - \\frac{\\sqrt{2} i \\sigma e^{- \\frac{\\mu^{2}}{2 \\sigma^{2}}}}{2 \\pi \\left(- i \\mu + \\sigma^{2} t\\right)} \\left(- \\frac{\\sqrt{2} i \\pi}{2 \\sigma} \\left(- i \\mu + \\sigma^{2} t\\right) e^{- \\frac{1}{2 \\sigma^{2}} \\left(- i \\mu + \\sigma^{2} t\\right)^{2}} \\operatorname{erf}{\\left (\\frac{\\sqrt{2} i}{2 \\sigma} \\left(- i \\mu + \\sigma^{2} t\\right) \\right )} + \\frac{\\sqrt{2} i \\pi}{2 \\sigma} \\left(- i \\mu + \\sigma^{2} t\\right) e^{- \\frac{1}{2 \\sigma^{2}} \\left(- i \\mu + \\sigma^{2} t\\right)^{2}}\\right)$$"
      ],
      "text/plain": [
       "          ⎛                                         2                         \n",
       "          ⎜                            ⎛        2  ⎞                          \n",
       "          ⎜                           -⎝-ⅈ⋅μ + σ ⋅t⎠                          \n",
       "          ⎜                           ────────────────                        \n",
       "          ⎜                                    2          ⎛  ___   ⎛        2 \n",
       "          ⎜    ___     ⎛        2  ⎞        2⋅σ           ⎜╲╱ 2 ⋅ⅈ⋅⎝-ⅈ⋅μ + σ ⋅\n",
       "          ⎜  ╲╱ 2 ⋅ⅈ⋅π⋅⎝-ⅈ⋅μ + σ ⋅t⎠⋅ℯ                ⋅erf⎜───────────────────\n",
       "  ___     ⎜                                               ⎝         2⋅σ       \n",
       "╲╱ 2 ⋅ⅈ⋅σ⋅⎜- ─────────────────────────────────────────────────────────────────\n",
       "          ⎝                                  2⋅σ                              \n",
       "──────────────────────────────────────────────────────────────────────────────\n",
       "                                                             ⎛        2  ⎞    \n",
       "                                                         2⋅π⋅⎝-ⅈ⋅μ + σ ⋅t⎠    \n",
       "\n",
       "                                               ⎞                   ⎛          \n",
       "                                             2 ⎟                   ⎜          \n",
       "                                ⎛        2  ⎞  ⎟                   ⎜          \n",
       "                               -⎝-ⅈ⋅μ + σ ⋅t⎠  ⎟    2              ⎜          \n",
       " ⎞⎞                            ────────────────⎟  -μ               ⎜          \n",
       "t⎠⎟                                     2      ⎟  ────             ⎜    ___   \n",
       "──⎟     ___     ⎛        2  ⎞        2⋅σ       ⎟     2             ⎜  ╲╱ 2 ⋅ⅈ⋅\n",
       "  ⎠   ╲╱ 2 ⋅ⅈ⋅π⋅⎝-ⅈ⋅μ + σ ⋅t⎠⋅ℯ                ⎟  2⋅σ      ___     ⎜          \n",
       "─── - ─────────────────────────────────────────⎟⋅ℯ       ╲╱ 2 ⋅ⅈ⋅σ⋅⎜- ────────\n",
       "                         2⋅σ                   ⎠                   ⎝          \n",
       "────────────────────────────────────────────────────── - ─────────────────────\n",
       "                                                                              \n",
       "                                                                              \n",
       "\n",
       "                               2                                              \n",
       "                  ⎛        2  ⎞                                               \n",
       "                 -⎝-ⅈ⋅μ + σ ⋅t⎠                                               \n",
       "                 ────────────────                                             \n",
       "                          2          ⎛  ___   ⎛        2  ⎞⎞                  \n",
       "  ⎛        2  ⎞        2⋅σ           ⎜╲╱ 2 ⋅ⅈ⋅⎝-ⅈ⋅μ + σ ⋅t⎠⎟                  \n",
       "π⋅⎝-ⅈ⋅μ + σ ⋅t⎠⋅ℯ                ⋅erf⎜─────────────────────⎟     ___     ⎛    \n",
       "                                     ⎝         2⋅σ         ⎠   ╲╱ 2 ⋅ⅈ⋅π⋅⎝-ⅈ⋅μ\n",
       "──────────────────────────────────────────────────────────── + ───────────────\n",
       "                        2⋅σ                                                   \n",
       "──────────────────────────────────────────────────────────────────────────────\n",
       "                                        ⎛        2  ⎞                         \n",
       "                                    2⋅π⋅⎝-ⅈ⋅μ + σ ⋅t⎠                         \n",
       "\n",
       "                          ⎞      \n",
       "                        2 ⎟      \n",
       "           ⎛        2  ⎞  ⎟      \n",
       "          -⎝-ⅈ⋅μ + σ ⋅t⎠  ⎟    2 \n",
       "          ────────────────⎟  -μ  \n",
       "                   2      ⎟  ────\n",
       "    2  ⎞        2⋅σ       ⎟     2\n",
       " + σ ⋅t⎠⋅ℯ                ⎟  2⋅σ \n",
       "──────────────────────────⎟⋅ℯ    \n",
       "    2⋅σ                   ⎠      \n",
       "─────────────────────────────────\n",
       "                                 \n",
       "                                 "
      ]
     },
     "execution_count": 54,
     "metadata": {},
     "output_type": "execute_result"
    }
   ],
   "source": [
    "X = Normal('X', mu, sigma)\n",
    "E(exp(I*t*X))"
   ]
  },
  {
   "cell_type": "code",
   "execution_count": 55,
   "metadata": {
    "collapsed": false
   },
   "outputs": [
    {
     "data": {
      "image/png": "[encoded data removed]",
      "text/latex": [
       "$$e^{i t X}$$"
      ],
      "text/plain": [
       " ⅈ⋅t⋅X\n",
       "ℯ     "
      ]
     },
     "execution_count": 55,
     "metadata": {},
     "output_type": "execute_result"
    }
   ],
   "source": [
    "simplify(exp(I*t*X))"
   ]
  },
  {
   "cell_type": "code",
   "execution_count": null,
   "metadata": {
    "collapsed": true
   },
   "outputs": [],
   "source": []
  },
  {
   "cell_type": "code",
   "execution_count": 48,
   "metadata": {
    "collapsed": false
   },
   "outputs": [],
   "source": [
    "p = Symbol('p')\n",
    "B = Bernoulli('B', p, 1, 0)"
   ]
  },
  {
   "cell_type": "code",
   "execution_count": 49,
   "metadata": {
    "collapsed": false
   },
   "outputs": [
    {
     "data": {
      "image/png": "[encoded data removed]",
      "text/latex": [
       "$$p \\left(- p + 1\\right)$$"
      ],
      "text/plain": [
       "p⋅(-p + 1)"
      ]
     },
     "execution_count": 49,
     "metadata": {},
     "output_type": "execute_result"
    }
   ],
   "source": [
    "simplify(variance(B))\n",
    "\n"
   ]
  },
  {
   "cell_type": "code",
   "execution_count": 50,
   "metadata": {
    "collapsed": false
   },
   "outputs": [
    {
     "data": {
      "image/png": "[encoded data removed]",
      "text/latex": [
       "$$\\sqrt{p \\left(- p + 1\\right)}$$"
      ],
      "text/plain": [
       "  ____________\n",
       "╲╱ p⋅(-p + 1) "
      ]
     },
     "execution_count": 50,
     "metadata": {},
     "output_type": "execute_result"
    }
   ],
   "source": [
    "simplify(std(B))"
   ]
  },
  {
   "cell_type": "code",
   "execution_count": null,
   "metadata": {
    "collapsed": true
   },
   "outputs": [],
   "source": []
  },
  {
   "cell_type": "code",
   "execution_count": null,
   "metadata": {
    "collapsed": true
   },
   "outputs": [],
   "source": []
  },
  {
   "cell_type": "code",
   "execution_count": null,
   "metadata": {
    "collapsed": true
   },
   "outputs": [],
   "source": []
  },
  {
   "cell_type": "code",
   "execution_count": null,
   "metadata": {
    "collapsed": true
   },
   "outputs": [],
   "source": []
  },
  {
   "cell_type": "code",
   "execution_count": null,
   "metadata": {
    "collapsed": true
   },
   "outputs": [],
   "source": []
  },
  {
   "cell_type": "code",
   "execution_count": 3,
   "metadata": {
    "collapsed": false
   },
   "outputs": [
    {
     "name": "stdout",
     "output_type": "stream",
     "text": [
      "downloading https://bitbucket.org/ipre/calico/downloads/calico-spell-check-1.0.zip to C:\\Users\\oldyu\\AppData\\Local\\Temp\\tmpa2p1lpk8\\calico-spell-check-1.0.zip\n",
      "extracting C:\\Users\\oldyu\\AppData\\Local\\Temp\\tmpa2p1lpk8\\calico-spell-check-1.0.zip to C:\\ProgramData\\jupyter\\nbextensions\n"
     ]
    }
   ],
   "source": [
    "#http://people.duke.edu/~ccc14/sta-663/Jupyter.html\n",
    "! ipython install-nbextension \\\n",
    "    https://bitbucket.org/ipre/calico/downloads/calico-spell-check-1.0.zip"
   ]
  }
 ],
 "metadata": {
  "kernelspec": {
   "display_name": "Python 3",
   "language": "python",
   "name": "python3"
  },
  "language_info": {
   "codemirror_mode": {
    "name": "ipython",
    "version": 3
   },
   "file_extension": ".py",
   "mimetype": "text/x-python",
   "name": "python",
   "nbconvert_exporter": "python",
   "pygments_lexer": "ipython3",
   "version": "3.5.1"
  }
 },
 "nbformat": 4,
 "nbformat_minor": 0
}
