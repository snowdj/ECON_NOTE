{
 "cells": [
  {
   "cell_type": "code",
   "execution_count": 1,
   "metadata": {
    "collapsed": true
   },
   "outputs": [],
   "source": [
    "%matplotlib inline\n",
    "import pandas as pd\n",
    "#import pandas.io.data as web\n",
    "\n",
    "import matplotlib.pyplot as plt\n",
    "import numpy as np\n",
    "import datetime as dt"
   ]
  },
  {
   "cell_type": "code",
   "execution_count": 5,
   "metadata": {
    "collapsed": true
   },
   "outputs": [],
   "source": [
    "from sympy import *\n",
    "x, y, z = symbols('x y z')\n",
    "init_printing(use_unicode=True)\n"
   ]
  },
  {
   "cell_type": "code",
   "execution_count": null,
   "metadata": {
    "collapsed": true
   },
   "outputs": [],
   "source": []
  },
  {
   "cell_type": "code",
   "execution_count": null,
   "metadata": {
    "collapsed": true
   },
   "outputs": [],
   "source": []
  },
  {
   "cell_type": "code",
   "execution_count": 3,
   "metadata": {
    "collapsed": true
   },
   "outputs": [],
   "source": [
    "f, g = symbols('f g', cls=Function)"
   ]
  },
  {
   "cell_type": "code",
   "execution_count": 6,
   "metadata": {
    "collapsed": false
   },
   "outputs": [
    {
     "data": {
      "image/png": "[encoded data removed]",
      "text/latex": [
       "$$\\frac{d}{d x} f{\\left (x \\right )}$$"
      ],
      "text/plain": [
       "d       \n",
       "──(f(x))\n",
       "dx      "
      ]
     },
     "execution_count": 6,
     "metadata": {},
     "output_type": "execute_result"
    }
   ],
   "source": [
    "f(x).diff(x)"
   ]
  },
  {
   "cell_type": "code",
   "execution_count": 10,
   "metadata": {
    "collapsed": true
   },
   "outputs": [],
   "source": [
    "#u1, u2 = symbols('u1 u2', cls=Function)"
   ]
  },
  {
   "cell_type": "code",
   "execution_count": 11,
   "metadata": {
    "collapsed": true
   },
   "outputs": [],
   "source": [
    "#G = symbols('G', cls=Function)"
   ]
  },
  {
   "cell_type": "code",
   "execution_count": 15,
   "metadata": {
    "collapsed": false
   },
   "outputs": [],
   "source": [
    "x1, x2 = symbols('x1 x2', positive = true)"
   ]
  },
  {
   "cell_type": "code",
   "execution_count": 16,
   "metadata": {
    "collapsed": true
   },
   "outputs": [],
   "source": [
    "u2bar, phi = symbols('u2bar phi', positive = true)"
   ]
  },
  {
   "cell_type": "code",
   "execution_count": null,
   "metadata": {
    "collapsed": true
   },
   "outputs": [],
   "source": []
  },
  {
   "cell_type": "code",
   "execution_count": 9,
   "metadata": {
    "collapsed": true
   },
   "outputs": [],
   "source": [
    "x = x1+x2"
   ]
  },
  {
   "cell_type": "code",
   "execution_count": 20,
   "metadata": {
    "collapsed": true
   },
   "outputs": [],
   "source": [
    "u1 = Function('u1')(x1, G)"
   ]
  },
  {
   "cell_type": "code",
   "execution_count": 21,
   "metadata": {
    "collapsed": true
   },
   "outputs": [],
   "source": [
    "u2 = Function('u2')(x2, G)"
   ]
  },
  {
   "cell_type": "code",
   "execution_count": 22,
   "metadata": {
    "collapsed": true
   },
   "outputs": [],
   "source": [
    "G = Function('G')(x)"
   ]
  },
  {
   "cell_type": "code",
   "execution_count": 24,
   "metadata": {
    "collapsed": false,
    "scrolled": true
   },
   "outputs": [],
   "source": [
    "L = u1 + phi(u2bar - u2)"
   ]
  },
  {
   "cell_type": "code",
   "execution_count": null,
   "metadata": {
    "collapsed": true
   },
   "outputs": [],
   "source": []
  },
  {
   "cell_type": "code",
   "execution_count": 25,
   "metadata": {
    "collapsed": false
   },
   "outputs": [
    {
     "data": {
      "image/png": "[encoded data removed]",
      "text/latex": [
       "$$\\frac{\\partial}{\\partial x_{1}} \\operatorname{u_{1}}{\\left (x_{1},G{\\left (x_{1} + x_{2} \\right )} \\right )} - \\left. \\frac{d}{d \\xi_{1}} G{\\left (\\xi_{1} \\right )} \\right|_{\\substack{ \\xi_{1}=x_{1} + x_{2} }} \\left. \\frac{d}{d \\xi_{1}} \\phi{\\left (\\xi_{1} \\right )} \\right|_{\\substack{ \\xi_{1}=\\bar{u2} - \\operatorname{u_{2}}{\\left (x_{2},G{\\left (x_{1} + x_{2} \\right )} \\right )} }} \\left. \\frac{\\partial}{\\partial \\xi_{2}} \\operatorname{u_{2}}{\\left (x_{2},\\xi_{2} \\right )} \\right|_{\\substack{ \\xi_{2}=G{\\left (x_{1} + x_{2} \\right )} }} + \\left. \\frac{d}{d \\xi_{1}} G{\\left (\\xi_{1} \\right )} \\right|_{\\substack{ \\xi_{1}=x_{1} + x_{2} }} \\left. \\frac{\\partial}{\\partial \\xi_{2}} \\operatorname{u_{1}}{\\left (x_{1},\\xi_{2} \\right )} \\right|_{\\substack{ \\xi_{2}=G{\\left (x_{1} + x_{2} \\right )} }}$$"
      ],
      "text/plain": [
       " ∂                        ⎛ d        ⎞│           ⎛ d        ⎞│               \n",
       "───(u₁(x₁, G(x₁ + x₂))) - ⎜───(G(ξ₁))⎟│          ⋅⎜───(φ(ξ₁))⎟│               \n",
       "∂x₁                       ⎝dξ₁       ⎠│ξ₁=x₁ + x₂ ⎝dξ₁       ⎠│ξ₁=u2̅ - u₂(x₂,\n",
       "\n",
       "             ⎛ ∂             ⎞│                ⎛ d        ⎞│           ⎛ ∂    \n",
       "            ⋅⎜───(u₂(x₂, ξ₂))⎟│              + ⎜───(G(ξ₁))⎟│          ⋅⎜───(u₁\n",
       " G(x₁ + x₂)) ⎝∂ξ₂            ⎠│ξ₂=G(x₁ + x₂)   ⎝dξ₁       ⎠│ξ₁=x₁ + x₂ ⎝∂ξ₂   \n",
       "\n",
       "         ⎞│             \n",
       "(x₁, ξ₂))⎟│             \n",
       "         ⎠│ξ₂=G(x₁ + x₂)"
      ]
     },
     "execution_count": 25,
     "metadata": {},
     "output_type": "execute_result"
    }
   ],
   "source": [
    "L.diff(x1)"
   ]
  },
  {
   "cell_type": "code",
   "execution_count": 26,
   "metadata": {
    "collapsed": false
   },
   "outputs": [
    {
     "data": {
      "image/png": "[encoded data removed]",
      "text/latex": [
       "$$\\left(- \\frac{\\partial}{\\partial x_{2}} \\operatorname{u_{2}}{\\left (x_{2},G{\\left (x_{1} + x_{2} \\right )} \\right )} - \\left. \\frac{d}{d \\xi_{1}} G{\\left (\\xi_{1} \\right )} \\right|_{\\substack{ \\xi_{1}=x_{1} + x_{2} }} \\left. \\frac{\\partial}{\\partial \\xi_{2}} \\operatorname{u_{2}}{\\left (x_{2},\\xi_{2} \\right )} \\right|_{\\substack{ \\xi_{2}=G{\\left (x_{1} + x_{2} \\right )} }}\\right) \\left. \\frac{d}{d \\xi_{1}} \\phi{\\left (\\xi_{1} \\right )} \\right|_{\\substack{ \\xi_{1}=\\bar{u2} - \\operatorname{u_{2}}{\\left (x_{2},G{\\left (x_{1} + x_{2} \\right )} \\right )} }} + \\left. \\frac{d}{d \\xi_{1}} G{\\left (\\xi_{1} \\right )} \\right|_{\\substack{ \\xi_{1}=x_{1} + x_{2} }} \\left. \\frac{\\partial}{\\partial \\xi_{2}} \\operatorname{u_{1}}{\\left (x_{1},\\xi_{2} \\right )} \\right|_{\\substack{ \\xi_{2}=G{\\left (x_{1} + x_{2} \\right )} }}$$"
      ],
      "text/plain": [
       "⎛   ∂                        ⎛ d        ⎞│           ⎛ ∂             ⎞│       \n",
       "⎜- ───(u₂(x₂, G(x₁ + x₂))) - ⎜───(G(ξ₁))⎟│          ⋅⎜───(u₂(x₂, ξ₂))⎟│       \n",
       "⎝  ∂x₂                       ⎝dξ₁       ⎠│ξ₁=x₁ + x₂ ⎝∂ξ₂            ⎠│ξ₂=G(x₁\n",
       "\n",
       "      ⎞ ⎛ d        ⎞│                              ⎛ d        ⎞│           ⎛ ∂\n",
       "      ⎟⋅⎜───(φ(ξ₁))⎟│                            + ⎜───(G(ξ₁))⎟│          ⋅⎜──\n",
       " + x₂)⎠ ⎝dξ₁       ⎠│ξ₁=u2̅ - u₂(x₂, G(x₁ + x₂))   ⎝dξ₁       ⎠│ξ₁=x₁ + x₂ ⎝∂ξ\n",
       "\n",
       "             ⎞│             \n",
       "─(u₁(x₁, ξ₂))⎟│             \n",
       "₂            ⎠│ξ₂=G(x₁ + x₂)"
      ]
     },
     "execution_count": 26,
     "metadata": {},
     "output_type": "execute_result"
    }
   ],
   "source": [
    "L.diff(x2)"
   ]
  },
  {
   "cell_type": "code",
   "execution_count": 27,
   "metadata": {
    "collapsed": false
   },
   "outputs": [
    {
     "data": {
      "image/png": "[encoded data removed]",
      "text/latex": [
       "$$- \\left. \\frac{d}{d \\xi_{1}} \\phi{\\left (\\xi_{1} \\right )} \\right|_{\\substack{ \\xi_{1}=\\bar{u2} - \\operatorname{u_{2}}{\\left (x_{2},G{\\left (x_{1} + x_{2} \\right )} \\right )} }} \\left. \\frac{\\partial}{\\partial \\xi_{2}} \\operatorname{u_{2}}{\\left (x_{2},\\xi_{2} \\right )} \\right|_{\\substack{ \\xi_{2}=G{\\left (x_{1} + x_{2} \\right )} }} + \\left. \\frac{\\partial}{\\partial \\xi_{2}} \\operatorname{u_{1}}{\\left (x_{1},\\xi_{2} \\right )} \\right|_{\\substack{ \\xi_{2}=G{\\left (x_{1} + x_{2} \\right )} }}$$"
      ],
      "text/plain": [
       "  ⎛ d        ⎞│                            ⎛ ∂             ⎞│                ⎛\n",
       "- ⎜───(φ(ξ₁))⎟│                           ⋅⎜───(u₂(x₂, ξ₂))⎟│              + ⎜\n",
       "  ⎝dξ₁       ⎠│ξ₁=u2̅ - u₂(x₂, G(x₁ + x₂)) ⎝∂ξ₂            ⎠│ξ₂=G(x₁ + x₂)   ⎝\n",
       "\n",
       " ∂             ⎞│             \n",
       "───(u₁(x₁, ξ₂))⎟│             \n",
       "∂ξ₂            ⎠│ξ₂=G(x₁ + x₂)"
      ]
     },
     "execution_count": 27,
     "metadata": {},
     "output_type": "execute_result"
    }
   ],
   "source": [
    "L.diff(G)"
   ]
  },
  {
   "cell_type": "code",
   "execution_count": 28,
   "metadata": {
    "collapsed": false
   },
   "outputs": [
    {
     "ename": "ValueError",
     "evalue": "\nCan't calculate 1-th derivative wrt x1 + x2.",
     "output_type": "error",
     "traceback": [
      "\u001b[1;31m---------------------------------------------------------------------------\u001b[0m",
      "\u001b[1;31mValueError\u001b[0m                                Traceback (most recent call last)",
      "\u001b[1;32m<ipython-input-28-5796ecab5387>\u001b[0m in \u001b[0;36m<module>\u001b[1;34m()\u001b[0m\n\u001b[1;32m----> 1\u001b[1;33m \u001b[0mL\u001b[0m\u001b[1;33m.\u001b[0m\u001b[0mdiff\u001b[0m\u001b[1;33m(\u001b[0m\u001b[0mx\u001b[0m\u001b[1;33m)\u001b[0m\u001b[1;33m\u001b[0m\u001b[0m\n\u001b[0m",
      "\u001b[1;32mC:\\Users\\oldyu\\Anaconda3\\Lib\\site-packages\\sympy\\core\\expr.py\u001b[0m in \u001b[0;36mdiff\u001b[1;34m(self, *symbols, **assumptions)\u001b[0m\n\u001b[0;32m   2773\u001b[0m         \u001b[0mnew_symbols\u001b[0m \u001b[1;33m=\u001b[0m \u001b[0mlist\u001b[0m\u001b[1;33m(\u001b[0m\u001b[0mmap\u001b[0m\u001b[1;33m(\u001b[0m\u001b[0msympify\u001b[0m\u001b[1;33m,\u001b[0m \u001b[0msymbols\u001b[0m\u001b[1;33m)\u001b[0m\u001b[1;33m)\u001b[0m  \u001b[1;31m# e.g. x, 2, y, z\u001b[0m\u001b[1;33m\u001b[0m\u001b[0m\n\u001b[0;32m   2774\u001b[0m         \u001b[0massumptions\u001b[0m\u001b[1;33m.\u001b[0m\u001b[0msetdefault\u001b[0m\u001b[1;33m(\u001b[0m\u001b[1;34m\"evaluate\"\u001b[0m\u001b[1;33m,\u001b[0m \u001b[1;32mTrue\u001b[0m\u001b[1;33m)\u001b[0m\u001b[1;33m\u001b[0m\u001b[0m\n\u001b[1;32m-> 2775\u001b[1;33m         \u001b[1;32mreturn\u001b[0m \u001b[0mDerivative\u001b[0m\u001b[1;33m(\u001b[0m\u001b[0mself\u001b[0m\u001b[1;33m,\u001b[0m \u001b[1;33m*\u001b[0m\u001b[0mnew_symbols\u001b[0m\u001b[1;33m,\u001b[0m \u001b[1;33m**\u001b[0m\u001b[0massumptions\u001b[0m\u001b[1;33m)\u001b[0m\u001b[1;33m\u001b[0m\u001b[0m\n\u001b[0m\u001b[0;32m   2776\u001b[0m \u001b[1;33m\u001b[0m\u001b[0m\n\u001b[0;32m   2777\u001b[0m     \u001b[1;31m###########################################################################\u001b[0m\u001b[1;33m\u001b[0m\u001b[1;33m\u001b[0m\u001b[0m\n",
      "\u001b[1;32mC:\\Users\\oldyu\\Anaconda3\\Lib\\site-packages\\sympy\\core\\function.py\u001b[0m in \u001b[0;36m__new__\u001b[1;34m(cls, expr, *variables, **assumptions)\u001b[0m\n\u001b[0;32m   1016\u001b[0m                 \u001b[1;32mfrom\u001b[0m \u001b[0msympy\u001b[0m\u001b[1;33m.\u001b[0m\u001b[0mutilities\u001b[0m\u001b[1;33m.\u001b[0m\u001b[0mmisc\u001b[0m \u001b[1;32mimport\u001b[0m \u001b[0mfilldedent\u001b[0m\u001b[1;33m\u001b[0m\u001b[0m\n\u001b[0;32m   1017\u001b[0m                 raise ValueError(filldedent('''\n\u001b[1;32m-> 1018\u001b[1;33m                 Can\\'t calculate %s-th derivative wrt %s.''' % (count, v)))\n\u001b[0m\u001b[0;32m   1019\u001b[0m \u001b[1;33m\u001b[0m\u001b[0m\n\u001b[0;32m   1020\u001b[0m             \u001b[1;32mif\u001b[0m \u001b[0mall_zero\u001b[0m \u001b[1;32mand\u001b[0m \u001b[1;32mnot\u001b[0m \u001b[0mcount\u001b[0m \u001b[1;33m==\u001b[0m \u001b[1;36m0\u001b[0m\u001b[1;33m:\u001b[0m\u001b[1;33m\u001b[0m\u001b[0m\n",
      "\u001b[1;31mValueError\u001b[0m: \nCan't calculate 1-th derivative wrt x1 + x2."
     ]
    }
   ],
   "source": [
    "L.diff(x)"
   ]
  },
  {
   "cell_type": "code",
   "execution_count": null,
   "metadata": {
    "collapsed": true
   },
   "outputs": [],
   "source": []
  },
  {
   "cell_type": "code",
   "execution_count": null,
   "metadata": {
    "collapsed": true
   },
   "outputs": [],
   "source": []
  },
  {
   "cell_type": "code",
   "execution_count": null,
   "metadata": {
    "collapsed": true
   },
   "outputs": [],
   "source": []
  },
  {
   "cell_type": "code",
   "execution_count": null,
   "metadata": {
    "collapsed": true
   },
   "outputs": [],
   "source": []
  },
  {
   "cell_type": "code",
   "execution_count": null,
   "metadata": {
    "collapsed": true
   },
   "outputs": [],
   "source": []
  },
  {
   "cell_type": "code",
   "execution_count": null,
   "metadata": {
    "collapsed": true
   },
   "outputs": [],
   "source": []
  }
 ],
 "metadata": {
  "kernelspec": {
   "display_name": "Python 3",
   "language": "python",
   "name": "python3"
  },
  "language_info": {
   "codemirror_mode": {
    "name": "ipython",
    "version": 3
   },
   "file_extension": ".py",
   "mimetype": "text/x-python",
   "name": "python",
   "nbconvert_exporter": "python",
   "pygments_lexer": "ipython3",
   "version": "3.5.1"
  }
 },
 "nbformat": 4,
 "nbformat_minor": 0
}
