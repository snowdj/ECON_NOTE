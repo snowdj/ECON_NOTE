{
 "cells": [
  {
   "cell_type": "markdown",
   "metadata": {},
   "source": [
    "## Difference equation solution\n",
    "\n",
    "#### The evolution of the inputs to production\n",
    "\n",
    "The initial levels of capital, :math:$K_0$, labor, :math:$L_0$, and technology,\n",
    ":math:$A_0$, are taken as given. Labor and technology are assumed to grow at\n",
    "constant rates:\n",
    "\n",
    ".. math::\n",
    "Definition:\n",
    "$$\\dot{A}(t) =  \\frac{\\partial A}{\\partial t}$$\n",
    "\n",
    "$$\\dot{L}(t) = \\frac{\\partial L}{\\partial t}$$\n",
    "\n",
    "$$\\dot{A}(t) = gA(t)$$\n",
    "\n",
    "$$\\dot{L}(t) = nL(t)$$\n",
    "\n",
    "where the rate of technological progrss, `g`, and the population growth rate,\n",
    "`n`, are exogenous parameters.\n",
    "\n",
    "$$L_t = L_0  e^{nt}$$\n",
    "\n",
    "$$A_t = A_0  e^{gt}$$\n",
    "\n"
   ]
  },
  {
   "cell_type": "code",
   "execution_count": null,
   "metadata": {
    "collapsed": true
   },
   "outputs": [],
   "source": []
  },
  {
   "cell_type": "code",
   "execution_count": null,
   "metadata": {
    "collapsed": true
   },
   "outputs": [],
   "source": []
  },
  {
   "cell_type": "code",
   "execution_count": null,
   "metadata": {
    "collapsed": true
   },
   "outputs": [],
   "source": []
  },
  {
   "cell_type": "code",
   "execution_count": null,
   "metadata": {
    "collapsed": true
   },
   "outputs": [],
   "source": []
  },
  {
   "cell_type": "code",
   "execution_count": null,
   "metadata": {
    "collapsed": true
   },
   "outputs": [],
   "source": []
  },
  {
   "cell_type": "markdown",
   "metadata": {},
   "source": [
    "\n",
    ".. _`Solow (1956)`:  http://piketty.pse.ens.fr/files/Solow1956.pdf\n",
    "\n",
    "Quick summary of Solow (1956)\n",
    "=============================\n",
    "\n",
    "The following summary of the Solow model of economic growth largely follows `Romer (2011)`_.\n",
    "\n",
    ".. _`Romer (2011)`: http://highered.mheducation.com/sites/0073511374/index.html\n",
    "\n",
    "### The production function\n",
    "\n",
    "\n",
    "The Solow model of economic growth focuses on the behavior of four\n",
    "variables: output, `Y`, capital, `K`, labor, `L`, and knowledge (or technology\n",
    "or the \"effectiveness of labor\"), `A`. At each point in time the economy has\n",
    "some amounts of capital, labor, and knowledge that can be combined to produce\n",
    "output according to some production function, `F`.\n",
    "\n",
    ".. math::\n",
    "\n",
    "$$Y(t) = F(K(t), A(t)L(t))$$\n",
    "\n",
    "where `t` denotes time.\n",
    "\n",
    "#### The evolution of the inputs to production\n",
    "\n",
    "The initial levels of capital, :math:$K_0$, labor, :math:$L_0$, and technology,\n",
    ":math:$A_0$, are taken as given. Labor and technology are assumed to grow at\n",
    "constant rates:\n",
    "\n",
    ".. math::\n",
    "\n",
    "$$\\dot{A}(t) = gA(t)$$\n",
    "$$\\dot{L}(t) = nL(t)$$\n",
    "\n",
    "where the rate of technological progrss, `g`, and the population growth rate,\n",
    "`n`, are exogenous parameters.\n",
    "\n",
    "Output is divided between consumption and investment. The fraction of output\n",
    "devoted to investment, :math:`0 < s < 1`, is exogenous and constant. One unit\n",
    "of output devoted to investment yields one unit of new capital. Capital is\n",
    "assumed to decpreciate at a rate :math: $0\\le \\delta$. Thus aggregate capital\n",
    "stock evolves according to\n",
    "\n",
    ".. math::\n",
    "\n",
    "$$\\dot{K}(t) = sY(t) - \\delta K(t).$$\n",
    "\n",
    "Although no restrictions are placed on the rates of technological progress and\n",
    "population growth, the sum of `g`, `n`, and :math: $\\delta$ is assumed to be\n",
    "positive.\n",
    "\n",
    "#### The dynamics of the model\n",
    "\n",
    "\n",
    "Because the economy is growing over time (due to exogenous technological\n",
    "progress and population growth) it is useful to focus on the behavior of\n",
    "capital stock per unit of effective labor\n",
    "\n",
    ".. math::\n",
    "    \n",
    "$$k \\equiv K/AL.$$\n",
    "\n",
    "Applying the chain rule to the equation of motion for capital stock yields (after a\n",
    "bit of algebra!) an equation of motion for capital stock per unit of effective\n",
    "labor.\n",
    "\n",
    ".. math::\n",
    "\n",
    "$$\\dot{k}(t) = s f(k) - (g + n + \\delta)k(t)$$\n",
    "\n",
    "That's it! The Solow model of economic growth reduced to a single non-linear ordinary differential equation.\n",
    "\n",
    "https://github.com/solowPy/solowPy\n",
    "\n"
   ]
  },
  {
   "cell_type": "code",
   "execution_count": null,
   "metadata": {
    "collapsed": true
   },
   "outputs": [],
   "source": []
  },
  {
   "cell_type": "code",
   "execution_count": null,
   "metadata": {
    "collapsed": true
   },
   "outputs": [],
   "source": []
  },
  {
   "cell_type": "code",
   "execution_count": 3,
   "metadata": {
    "collapsed": false
   },
   "outputs": [
    {
     "name": "stdout",
     "output_type": "stream",
     "text": [
      "Collecting seaborn\n",
      "  Using cached seaborn-0.6.0.tar.gz\n",
      "Building wheels for collected packages: seaborn\n",
      "  Running setup.py bdist_wheel for seaborn\n",
      "  Stored in directory: C:\\Users\\oldyu\\AppData\\Local\\pip\\Cache\\wheels\\e6\\92\\84\\a33c536c601c0ebd434caee8f8054f26390b32d36824c1e5d4\n",
      "Successfully built seaborn\n",
      "Installing collected packages: seaborn\n",
      "Successfully installed seaborn-0.6.0\n"
     ]
    }
   ],
   "source": [
    "!pip install seaborn"
   ]
  },
  {
   "cell_type": "code",
   "execution_count": 4,
   "metadata": {
    "collapsed": false
   },
   "outputs": [
    {
     "name": "stdout",
     "output_type": "stream",
     "text": [
      "Collecting quantecon\n",
      "  Downloading quantecon-0.3.0.tar.gz (74kB)\n",
      "Building wheels for collected packages: quantecon\n",
      "  Running setup.py bdist_wheel for quantecon\n",
      "  Stored in directory: C:\\Users\\oldyu\\AppData\\Local\\pip\\Cache\\wheels\\d5\\ba\\bf\\dd404e109ea170ad01d26de85a91e12fa9f550ddbbe2746d1b\n",
      "Successfully built quantecon\n",
      "Installing collected packages: quantecon\n",
      "Successfully installed quantecon-0.3.0\n"
     ]
    }
   ],
   "source": [
    "!pip install quantecon"
   ]
  },
  {
   "cell_type": "code",
   "execution_count": 6,
   "metadata": {
    "collapsed": false
   },
   "outputs": [
    {
     "name": "stdout",
     "output_type": "stream",
     "text": [
      "Collecting solowpy\n",
      "  Downloading solowpy-0.1.3-alpha.tar.gz\n",
      "Building wheels for collected packages: solowpy\n",
      "  Running setup.py bdist_wheel for solowpy\n",
      "  Stored in directory: C:\\Users\\oldyu\\AppData\\Local\\pip\\Cache\\wheels\\24\\40\\71\\c06f51a9ba35b75c2c1374902feb4f2361149260d98f2d657f\n",
      "Successfully built solowpy\n",
      "Installing collected packages: solowpy\n",
      "Successfully installed solowpy-0.1.3a0\n"
     ]
    }
   ],
   "source": [
    "!pip install solowpy"
   ]
  },
  {
   "cell_type": "code",
   "execution_count": 13,
   "metadata": {
    "collapsed": false
   },
   "outputs": [],
   "source": [
    "from IPython.html.widgets import interact, interactive"
   ]
  },
  {
   "cell_type": "code",
   "execution_count": null,
   "metadata": {
    "collapsed": true
   },
   "outputs": [],
   "source": [
    "# Lots of different places that widgets could come from...\n",
    "try:\n",
    "    from ipywidgets import interact, FloatSlider, IntSlider\n",
    "except ImportError:\n",
    "    try:\n",
    "        from IPython.html.widgets import interact, FloatSlider, IntSlider\n",
    "    except ImportError:\n",
    "        try:\n",
    "            from IPython.html.widgets import (interact,\n",
    "                                              FloatSliderWidget as FloatSlider,\n",
    "                                              IntSliderWidget as IntSlider)\n",
    "        except ImportError:\n",
    "            pass"
   ]
  },
  {
   "cell_type": "code",
   "execution_count": 35,
   "metadata": {
    "collapsed": false
   },
   "outputs": [],
   "source": [
    "\n",
    "\n",
    "%matplotlib inline\n",
    "\n",
    "import matplotlib.pyplot as plt\n",
    "import seaborn as sns\n",
    "import numpy as np\n",
    "import sympy as sym\n",
    "import pandas as pd\n",
    "\n",
    "import quantecon as qe\n",
    "import solowpy\n",
    "\n"
   ]
  },
  {
   "cell_type": "code",
   "execution_count": null,
   "metadata": {
    "collapsed": true
   },
   "outputs": [],
   "source": []
  },
  {
   "cell_type": "markdown",
   "metadata": {},
   "source": [
    "## 0.1 The basic Solow growth model\n",
    "The Solow model can be reduced down to a single non-linear differential equation and associated initial condition describing the time evolution of capital stock (per unit effective labor), $k(t)$.\n",
    "\n",
    "$$ \\dot{k}(t) = sf(k(t)) - (n + g + \\delta)k(t),\\ k(t) = k_0 \\tag {0.1.1} $$\n",
    "\n",
    "The parameter $0 < s < 1$ is the fraction of output invested and the parameters $n, g, \\delta$ are the rates of population growth, technological progress, and depreciation of physical capital. The intensive form of the production function $f$ is assumed to be to be strictly concave with \n",
    "\n",
    "$$ f(0) = 0,\\ lim_{k\\rightarrow 0}\\ f' = \\infty,\\ lim_{k\\rightarrow \\infty}\\ f' = 0. \\tag{0.1.2} $$ \n",
    "\n",
    "A common choice for the function $f$ which satisfies the above conditions is known as the Cobb-Douglas production function.\n",
    "\n",
    "$$ f(k(t)) = k(t)^{\\alpha} $$\n",
    "\n",
    "Assuming a Cobb-Douglas functional form for $f$ also makes the model analytically tractable (and thus contributes to the typical economics student's belief that all such models \"must\" have an analytic solution). [Sato 1963](http://www.jstor.org/stable/2296026) showed that the solution to the model under the assumption of Cobb-Douglas production is\n",
    "\n",
    "$$ k(t) = \\Bigg[\\bigg(\\frac{s}{n+g+\\delta}\\bigg)\\bigg(1 - e^{-(n+g+\\delta)(1-\\alpha)t}\\bigg)+ k_0^{1-\\alpha}e^{-(n+g+\\delta)(1-\\alpha)t}\\Bigg]^{\\frac{1}{1-\\alpha}}. \\tag{0.1.3} $$\n",
    "\n",
    "A notable property of the Solow model with Cobb-Douglas production is that the model predicts that the shares of real income going to capital and labor should be constant. Denoting capital's share of income as $\\alpha_K(k)$, the model predicts that \n",
    "\n",
    "$$ \\alpha_K(k(t)) \\equiv \\frac{\\partial \\ln f(k(t))}{\\partial \\ln k(t)} = \\alpha \\tag{0.1.4} $$\n",
    "\n",
    "Note that the prediction is that factor shares are constant along both the balanced growth path *and* during the disequilibrium transient (i.e., the period in which $k(t)$ is varying).  We can test this implication of the model using data from the newest version of the [Penn World Tables (PWT)](http://www.rug.nl/research/ggdc/data/penn-world-table). "
   ]
  },
  {
   "cell_type": "code",
   "execution_count": null,
   "metadata": {
    "collapsed": true
   },
   "outputs": [],
   "source": []
  },
  {
   "cell_type": "code",
   "execution_count": 14,
   "metadata": {
    "collapsed": true
   },
   "outputs": [],
   "source": [
    "# define model variables\n",
    "A, K, L = sym.symbols('A, K, L')\n",
    "\n",
    "# define production parameters\n",
    "alpha, sigma = sym.symbols('alpha, sigma')\n",
    "\n",
    "# define a production function\n",
    "cobb_douglas_output = K**alpha * (A * L)**(1 - alpha)\n",
    "\n",
    "rho = (sigma - 1) / sigma\n",
    "ces_output = (alpha * K**rho + (1 - alpha) * (A * L)**rho)**(1 / rho)"
   ]
  },
  {
   "cell_type": "code",
   "execution_count": 15,
   "metadata": {
    "collapsed": true
   },
   "outputs": [],
   "source": [
    "cobb_douglas_params = {'A0': 1.0, 'L0': 1.0, 'g': 0.02, 'n': 0.03, 's': 0.15,\n",
    "                       'delta': 0.05, 'alpha': 0.33}\n",
    "\n",
    "cobb_douglas_model = solowpy.Model(output=cobb_douglas_output,\n",
    "                                 params=cobb_douglas_params)"
   ]
  },
  {
   "cell_type": "markdown",
   "metadata": {},
   "source": [
    "## 1.3 Other attributes of the `solow.Model` class\n",
    "\n",
    "### The intensive form of the production function\n",
    "\n",
    "The assumption of constant returns to scale allows us to work with the intensive form of the aggregate production function, $F$. Defining $c=1/AL$ one can write\n",
    "\n",
    "$$ F\\bigg(\\frac{K}{AL}, 1\\bigg) = \\frac{1}{AL}F(A, K, L) \\tag{1.3.1} $$\n",
    "\n",
    "Defining $k=K/AL$ and $y=Y/AL$ to be capital per unit effective labor and output per unit effective labor, respectively, the intensive form of the production function can be written as\n",
    "\n",
    "$$ y = f(k). \\tag{1.3.2}$$\n",
    "\n",
    "Additional assumptions are that $f$ satisfies $f(0)=0$, is concave (i.e., $f'(k) > 0, f''(k) < 0$), and satisfies the Inada conditions: $\\lim_{k \\rightarrow 0} = \\infty$ and $\\lim_{k \\rightarrow \\infty} = 0$. The <cite data-cite=\"inada1964\">(Inada, 1964)</cite> conditions are sufficient (but not necessary!) to ensure that the time path of capital per effective worker does not explode. Much of the above information is actually taken straight from the docstring for the `solow.Model.intensive_output` attribute."
   ]
  },
  {
   "cell_type": "code",
   "execution_count": 18,
   "metadata": {
    "collapsed": false
   },
   "outputs": [
    {
     "data": {
      "image/png": "[encoded data removed]",
      "text/latex": [
       "$$1.0^{- \\alpha + 1} k^{\\alpha}$$"
      ],
      "text/plain": [
       "   -α + 1  α\n",
       "1.0      ⋅k "
      ]
     },
     "execution_count": 18,
     "metadata": {},
     "output_type": "execute_result"
    }
   ],
   "source": [
    "from sympy.interactive import init_printing\n",
    "init_printing(pretty_print=True) \n",
    "cobb_douglas_model.intensive_output"
   ]
  },
  {
   "cell_type": "code",
   "execution_count": 22,
   "metadata": {
    "collapsed": false
   },
   "outputs": [
    {
     "name": "stdout",
     "output_type": "stream",
     "text": [
      "f(x) = 1.0**(-alpha + 1)*k**alpha\n"
     ]
    }
   ],
   "source": [
    "print(r\"f(x) =\", cobb_douglas_model.intensive_output )"
   ]
  },
  {
   "cell_type": "markdown",
   "metadata": {},
   "source": [
    "One can numerically evaluate the intensive output for various values of capital stock (per unit effective labor) as follows..."
   ]
  },
  {
   "cell_type": "code",
   "execution_count": 23,
   "metadata": {
    "collapsed": false
   },
   "outputs": [
    {
     "data": {
      "text/plain": [
       "array([ 1.        ,  1.11081028,  1.2028253 ,  1.28241458,  1.35306981,\n",
       "        1.41693683,  1.47543985,  1.52957805,  1.58008262,  1.6275066 ,\n",
       "        1.6722796 ,  1.71474276,  1.75517202,  1.79379413,  1.8307979 ,\n",
       "        1.86634248,  1.90056336,  1.93357699,  1.96548422,  1.99637311,\n",
       "        2.026321  ,  2.05539625,  2.0836596 ,  2.11116532,  2.13796209])"
      ]
     },
     "execution_count": 23,
     "metadata": {},
     "output_type": "execute_result"
    }
   ],
   "source": [
    "cobb_douglas_model.evaluate_intensive_output(np.linspace(1.0, 10.0, 25))"
   ]
  },
  {
   "cell_type": "markdown",
   "metadata": {},
   "source": [
    "### The marginal product of capital\n",
    "\n",
    "The marginal product of capital is defined as follows:\n",
    "\n",
    "$$ \\frac{\\partial F(K, AL)}{\\partial K} \\equiv f'(k) \\tag{1.3.3}$$\n",
    "\n",
    "where $k=K/AL$ is capital stock (per unit effective labor)."
   ]
  },
  {
   "cell_type": "code",
   "execution_count": 24,
   "metadata": {
    "collapsed": false
   },
   "outputs": [
    {
     "data": {
      "image/png": "[encoded data removed]",
      "text/latex": [
       "$$\\frac{\\alpha k^{\\alpha}}{k} 1.0^{- \\alpha + 1}$$"
      ],
      "text/plain": [
       "   -α + 1    α\n",
       "1.0      ⋅α⋅k \n",
       "──────────────\n",
       "      k       "
      ]
     },
     "execution_count": 24,
     "metadata": {},
     "output_type": "execute_result"
    }
   ],
   "source": [
    "cobb_douglas_model.marginal_product_capital"
   ]
  },
  {
   "cell_type": "markdown",
   "metadata": {},
   "source": [
    "One can numerically evaluate the marginal product of capital for various values of capital stock (per unit effective labor) as follows..."
   ]
  },
  {
   "cell_type": "code",
   "execution_count": 25,
   "metadata": {
    "collapsed": false
   },
   "outputs": [
    {
     "data": {
      "text/plain": [
       "array([ 0.33      ,  0.26659447,  0.22681849,  0.19915144,  0.17860521,\n",
       "        0.16263971,  0.14981389,  0.13924435,  0.13035682,  0.1227605 ,\n",
       "        0.11617942,  0.1104127 ,  0.10531032,  0.1007578 ,  0.09666613,\n",
       "        0.09296498,  0.08959799,  0.08651938,  0.08369159,  0.08108346,\n",
       "        0.07866893,  0.076426  ,  0.07433596,  0.07238281,  0.07055275])"
      ]
     },
     "execution_count": 25,
     "metadata": {},
     "output_type": "execute_result"
    }
   ],
   "source": [
    "cobb_douglas_model.evaluate_mpk(np.linspace(1.0, 10.0, 25))"
   ]
  },
  {
   "cell_type": "markdown",
   "metadata": {},
   "source": [
    "### Equation of motion for capital (per unit effective labor)\n",
    "Because the economy is growing over time due to technological progress, $g$, and population growth, $n$, it makes sense to focus on the capital stock per unit effective labor, $k$, rather than aggregate physical capital, $K$. Since, by definition, $k=K/AL$, we can apply the chain rule to the time derative of $k$.\n",
    "\n",
    "\\begin{align}\n",
    "\\dot{k}(t) =& \\frac{\\dot{K}(t)}{A(t)L(t)} - \\frac{K(t)}{[A(t)L(t)]^2}\\bigg[\\dot{A}(t)L(t) + \\dot{L}(t)A(t)\\bigg] \\\\\n",
    "=& \\frac{\\dot{K}(t)}{A(t)L(t)} - \\bigg(\\frac{\\dot{A}(t)}{A(t)} + \\frac{\\dot{L}(t)}{L(t)}\\bigg)\\frac{K(t)}{A(t)L(t)} \\tag{1.3.4}\n",
    "\\end{align}\n",
    "\n",
    "By definition, $k=K/AL$, and by assumption $\\dot{A}/A$ and $\\dot{L}/L$ are $g$ and $n$ respectively. Aggregate capital stock evolves according to\n",
    "\n",
    "$$ \\dot{K}(t) = sF(K(t), A(t)L(t)) - \\delta K(t). \\tag{1.3.5}$$\n",
    "\n",
    "Substituting these facts into the above equation yields the equation of\n",
    "motion for capital stock (per unit effective labor).\n",
    "\n",
    "\\begin{align}\n",
    "\\dot{k}(t) =& \\frac{sF(K(t), A(t)L(t)) - \\delta K(t)}{A(t)L(t)} - (g + n)k(t) \\\\\n",
    "=& \\frac{sY(t)}{A(t)L(t)} - (g + n + \\delta)k(t) \\\\\n",
    "=& sf(k(t)) - (g + n + \\delta)k(t) \\tag{1.3.6}\n",
    "\\end{align}\n",
    "\n",
    "The above information is available for reference in the docstring for the `solow.Model.k_dot` attribute."
   ]
  },
  {
   "cell_type": "code",
   "execution_count": 27,
   "metadata": {
    "collapsed": false
   },
   "outputs": [
    {
     "data": {
      "image/png": "[encoded data removed]",
      "text/latex": [
       "$$1.0^{- \\alpha + 1} k^{\\alpha} s - k \\left(\\delta + g + n\\right)$$"
      ],
      "text/plain": [
       "   -α + 1  α                  \n",
       "1.0      ⋅k ⋅s - k⋅(δ + g + n)"
      ]
     },
     "execution_count": 27,
     "metadata": {},
     "output_type": "execute_result"
    }
   ],
   "source": [
    "cobb_douglas_model.k_dot"
   ]
  },
  {
   "cell_type": "markdown",
   "metadata": {},
   "source": [
    "One can numerically evaluate the equation of motion for capital (per unit effective labor) for various values of capital stock (per unit effective labor) as follows..."
   ]
  },
  {
   "cell_type": "code",
   "execution_count": 32,
   "metadata": {
    "collapsed": false
   },
   "outputs": [
    {
     "data": {
      "text/plain": [
       "array([ 0.05      ,  0.02912154,  0.0054238 , -0.02013781, -0.04703953,\n",
       "       -0.07495947, -0.10368402, -0.13306329, -0.16298761, -0.19337401,\n",
       "       -0.22415806, -0.25528859, -0.2867242 , -0.31843088, -0.35038031,\n",
       "       -0.38254863, -0.4149155 , -0.44746345, -0.48017737, -0.51304403,\n",
       "       -0.54605185, -0.57919056, -0.61245106, -0.6458252 , -0.67930569])"
      ]
     },
     "execution_count": 32,
     "metadata": {},
     "output_type": "execute_result"
    }
   ],
   "source": [
    "cobb_douglas_model.evaluate_k_dot(np.linspace(1.0, 10.0, 25))"
   ]
  },
  {
   "cell_type": "code",
   "execution_count": 33,
   "metadata": {
    "collapsed": true
   },
   "outputs": [],
   "source": [
    "import pypwt"
   ]
  },
  {
   "cell_type": "markdown",
   "metadata": {},
   "source": [
    "# 2. Computing the steady state\n",
    "\n",
    "Traditionally, most analysis of the Solow model focuses almost excusively on the long run steady state of the model. Recall that the steady state of the Solow model is the value of capital stock (per unit effective labor) that solves\n",
    "\n",
    "$$ 0 = sf(k^*) - (g + n + \\delta)k^*. \\tag{2.0.1} $$\n",
    "\n",
    "In words: in the long-run, capital stock (per unit effective labor) converges to the value that balances actual investment, $sf(k)$, with effective depreciation, $(g + n + \\delta)$. Given the assumption made about the aggregate production technology, $F$, and its intensive form, $f$, there is always a unique value $k^* >0$ satisfying equation 2.0.1."
   ]
  },
  {
   "cell_type": "markdown",
   "metadata": {},
   "source": [
    "## 2.1 Analytic results\n",
    "For many (all?) of the commonly used functional forms for $F$ one can easily derive a closed-form expression for the steady state value of capital stock (per unit effective labor). For example, assuming $F$ is constant elasticity of substitution (CES), the analytical solution for $k^*$ is\n",
    "\n",
    "$$ k^* = \\left[\\frac{1-\\alpha}{\\bigg(\\frac{g+n+\\delta}{s}\\bigg)^{\\rho}-\\alpha}\\right]^{\\frac{1}{\\rho}} \\tag{2.1.0} $$\n",
    "\n",
    "This analytic solution is available via the `steady_state` attribute."
   ]
  },
  {
   "cell_type": "code",
   "execution_count": 34,
   "metadata": {
    "collapsed": false
   },
   "outputs": [
    {
     "data": {
      "image/png": "[encoded data removed]",
      "text/latex": [
       "$$1.8315668508047265$$"
      ],
      "text/plain": [
       "1.8315668508047265"
      ]
     },
     "execution_count": 34,
     "metadata": {},
     "output_type": "execute_result"
    }
   ],
   "source": [
    "cobb_douglas_model.steady_state"
   ]
  },
  {
   "cell_type": "markdown",
   "metadata": {},
   "source": [
    "### Static example:\n",
    "Creating a static plot of the classic Solow diagram is done as follows."
   ]
  },
  {
   "cell_type": "code",
   "execution_count": 36,
   "metadata": {
    "collapsed": false
   },
   "outputs": [
    {
     "data": {
      "image/png": "[encoded data removed]",
      "text/plain": [
       "<matplotlib.figure.Figure at 0x263cf6c4278>"
      ]
     },
     "metadata": {},
     "output_type": "display_data"
    }
   ],
   "source": [
    "fig, ax = plt.subplots(1, 1, figsize=(8,6))\n",
    "cobb_douglas_model.plot_solow_diagram(ax)\n",
    "fig.show()"
   ]
  },
  {
   "cell_type": "markdown",
   "metadata": {},
   "source": [
    "## Interactive example:\n",
    "All of the various plotting methods can be made interactive using IPython widgets. To construct an IPython widget we need the following additional `import` statements."
   ]
  },
  {
   "cell_type": "code",
   "execution_count": 38,
   "metadata": {
    "collapsed": false
   },
   "outputs": [],
   "source": [
    "from IPython.html.widgets import fixed, interact"
   ]
  },
  {
   "cell_type": "code",
   "execution_count": 39,
   "metadata": {
    "collapsed": true
   },
   "outputs": [],
   "source": [
    "from ipywidgets import interact, FloatSlider, IntSlider"
   ]
  },
  {
   "cell_type": "code",
   "execution_count": 44,
   "metadata": {
    "collapsed": true
   },
   "outputs": [],
   "source": [
    "# define model parameters\n",
    "ces_params = {'A0': 1.0, 'L0': 1.0, 'g': 0.02, 'n': 0.03, 's': 0.15,\n",
    "              'delta': 0.05, 'alpha': 0.33, 'sigma': 0.95}\n",
    "\n",
    "# create an instance of the solow.Model class\n",
    "ces_model = solowpy.CESModel(params=ces_params)"
   ]
  },
  {
   "cell_type": "code",
   "execution_count": null,
   "metadata": {
    "collapsed": true
   },
   "outputs": [],
   "source": []
  },
  {
   "cell_type": "code",
   "execution_count": 45,
   "metadata": {
    "collapsed": false
   },
   "outputs": [
    {
     "data": {
      "image/png": "[encoded data removed]",
      "text/plain": [
       "<matplotlib.figure.Figure at 0x263d1218d68>"
      ]
     },
     "metadata": {},
     "output_type": "display_data"
    }
   ],
   "source": [
    "fig, ax = plt.subplots(1, 1, figsize=(8,6))\n",
    "ces_model.plot_solow_diagram(ax)\n",
    "fig.show()"
   ]
  },
  {
   "cell_type": "code",
   "execution_count": null,
   "metadata": {
    "collapsed": true
   },
   "outputs": [],
   "source": []
  },
  {
   "cell_type": "code",
   "execution_count": 46,
   "metadata": {
    "collapsed": false
   },
   "outputs": [
    {
     "data": {
      "text/plain": [
       "<function __main__.interactive_solow_diagram>"
      ]
     },
     "execution_count": 46,
     "metadata": {},
     "output_type": "execute_result"
    },
    {
     "data": {
      "image/png": "[encoded data removed]",
      "text/plain": [
       "<matplotlib.figure.Figure at 0x263d1243c88>"
      ]
     },
     "metadata": {},
     "output_type": "display_data"
    }
   ],
   "source": [
    "# wrap the static plotting code in a function\n",
    "def interactive_solow_diagram(model, **params):\n",
    "    \"\"\"Interactive widget for the factor shares.\"\"\"\n",
    "    fig, ax = plt.subplots(1, 1, figsize=(8, 6))\n",
    "    model.plot_solow_diagram(ax, Nk=1000, **params)\n",
    "    \n",
    "# define some widgets for the various parameters\n",
    "eps = 1e-2\n",
    "technology_progress_widget = FloatSlider(min=-0.05, max=0.05, step=eps, value=0.02)\n",
    "population_growth_widget = FloatSlider(min=-0.05, max=0.05, step=eps, value=0.02)\n",
    "savings_widget = FloatSlider(min=eps, max=1-eps, step=eps, value=0.5)\n",
    "output_elasticity_widget = FloatSlider(min=eps, max=1.0, step=eps, value=0.5)\n",
    "depreciation_widget = FloatSlider(min=eps, max=1-eps, step=eps, value=0.5)\n",
    "elasticity_substitution_widget = FloatSlider(min=eps, max=10.0, step=0.01, value=1.0+eps)\n",
    "\n",
    "# create the widget!\n",
    "interact(interactive_solow_diagram, \n",
    "         model=fixed(ces_model),\n",
    "         g=technology_progress_widget,\n",
    "         n=population_growth_widget,\n",
    "         s=savings_widget, \n",
    "         alpha=output_elasticity_widget,\n",
    "         delta=depreciation_widget,\n",
    "         sigma=elasticity_substitution_widget,\n",
    "         )"
   ]
  },
  {
   "cell_type": "markdown",
   "metadata": {},
   "source": [
    "## 3.1 Intensive production function\n",
    "Creating an interactive plot of the intensive production function is done as follows."
   ]
  },
  {
   "cell_type": "code",
   "execution_count": 48,
   "metadata": {
    "collapsed": false
   },
   "outputs": [
    {
     "data": {
      "text/plain": [
       "<function __main__.interactive_intensive_output>"
      ]
     },
     "execution_count": 48,
     "metadata": {},
     "output_type": "execute_result"
    },
    {
     "data": {
      "image/png": "[encoded data removed]",
      "text/plain": [
       "<matplotlib.figure.Figure at 0x263d1142048>"
      ]
     },
     "metadata": {},
     "output_type": "display_data"
    }
   ],
   "source": [
    "def interactive_intensive_output(model, **params):\n",
    "    \"\"\"Interactive widget for the intensive production function.\"\"\"\n",
    "    fig, ax = plt.subplots(1, 1, figsize=(8, 6))\n",
    "    model.plot_intensive_output(ax, Nk=1000, **params)\n",
    "    \n",
    "# define some widgets for the various parameters\n",
    "eps = 1e-2\n",
    "output_elasticity_widget = FloatSlider(min=eps, max=1-eps, step=0.1, value=0.5)\n",
    "elasticity_substitution_widget = FloatSlider(min=eps, max=10.0, step=0.5, value=1.0+eps)\n",
    "\n",
    "# create the interactive plot\n",
    "interact(interactive_intensive_output,\n",
    "         model=fixed(ces_model),\n",
    "         alpha=output_elasticity_widget,\n",
    "         sigma=elasticity_substitution_widget\n",
    "         )"
   ]
  },
  {
   "cell_type": "markdown",
   "metadata": {},
   "source": [
    "## 3.2  Factor shares\n",
    "Creating an interactive plot of factor shares for capital and labor is done as follows."
   ]
  },
  {
   "cell_type": "code",
   "execution_count": 49,
   "metadata": {
    "collapsed": false
   },
   "outputs": [
    {
     "data": {
      "text/plain": [
       "<function __main__.interactive_factor_shares>"
      ]
     },
     "execution_count": 49,
     "metadata": {},
     "output_type": "execute_result"
    },
    {
     "data": {
      "image/png": "[encoded data removed]",
      "text/plain": [
       "<matplotlib.figure.Figure at 0x263cf89eef0>"
      ]
     },
     "metadata": {},
     "output_type": "display_data"
    }
   ],
   "source": [
    "def interactive_factor_shares(model, **params):\n",
    "    \"\"\"Interactive widget for the factor shares.\"\"\"\n",
    "    fig, ax = plt.subplots(1, 1, figsize=(8, 6))\n",
    "    model.plot_factor_shares(ax, Nk=1000, **params)\n",
    "    \n",
    "# define some widgets for the various parameters\n",
    "eps = 1e-2\n",
    "technology_progress_widget = FloatSlider(min=-0.05, max=0.05, step=eps, value=0.02)\n",
    "population_growth_widget = FloatSlider(min=-0.05, max=0.05, step=eps, value=0.02)\n",
    "savings_widget = FloatSlider(min=eps, max=1-eps, step=eps, value=0.5)\n",
    "output_elasticity_widget = FloatSlider(min=eps, max=1.0-eps, step=eps, value=0.5)\n",
    "depreciation_widget = FloatSlider(min=eps, max=1-eps, step=eps, value=0.5)\n",
    "elasticity_substitution_widget = FloatSlider(min=eps, max=10.0, step=0.5, value=1.0+eps)\n",
    "\n",
    "# create the widget!\n",
    "interact(interactive_factor_shares, \n",
    "         model=fixed(ces_model),\n",
    "         g=technology_progress_widget,\n",
    "         n=population_growth_widget,\n",
    "         s=savings_widget, \n",
    "         alpha=output_elasticity_widget,\n",
    "         delta=depreciation_widget,\n",
    "         sigma=elasticity_substitution_widget,\n",
    "         )"
   ]
  },
  {
   "cell_type": "markdown",
   "metadata": {},
   "source": [
    "## 3.4 Phase Diagram\n",
    "Creating an interactive plot of the phase diagram for the Solow model is done as follows."
   ]
  },
  {
   "cell_type": "code",
   "execution_count": 50,
   "metadata": {
    "collapsed": false
   },
   "outputs": [
    {
     "data": {
      "image/png": "[encoded data removed]",
      "text/plain": [
       "<matplotlib.figure.Figure at 0x263cfa3bf60>"
      ]
     },
     "metadata": {},
     "output_type": "display_data"
    }
   ],
   "source": [
    "def interactive_phase_diagram(model, **params):\n",
    "    \"\"\"Interactive widget for the phase diagram.\"\"\"\n",
    "    fig, ax = plt.subplots(1, 1, figsize=(8, 6))\n",
    "    model.plot_phase_diagram(ax, Nk=1000, **params)\n",
    "    \n",
    "# define some widgets for the various parameters\n",
    "eps = 1e-2\n",
    "technology_progress_widget = FloatSlider(min=-0.05, max=0.05, step=eps, value=0.02)\n",
    "population_growth_widget = FloatSlider(min=-0.05, max=0.05, step=eps, value=0.02)\n",
    "savings_widget = FloatSlider(min=eps, max=1-eps, step=eps, value=0.5)\n",
    "output_elasticity_widget = FloatSlider(min=eps, max=1-eps, step=eps, value=0.5)\n",
    "depreciation_widget = FloatSlider(min=eps, max=1-eps, step=eps, value=0.5)\n",
    "elasticity_substitution_widget = FloatSlider(min=eps, max=10.0, step=0.5, value=1.0+eps)\n",
    "\n",
    "\n",
    "# create the widget!\n",
    "phase_diagram_widget = interact(interactive_phase_diagram, \n",
    "                                model=fixed(ces_model),\n",
    "                                g=technology_progress_widget,\n",
    "                                n=population_growth_widget,\n",
    "                                s=savings_widget, \n",
    "                                alpha=output_elasticity_widget,\n",
    "                                delta=depreciation_widget,\n",
    "                                sigma=elasticity_substitution_widget\n",
    "                                )"
   ]
  },
  {
   "cell_type": "code",
   "execution_count": null,
   "metadata": {
    "collapsed": true
   },
   "outputs": [],
   "source": []
  },
  {
   "cell_type": "code",
   "execution_count": null,
   "metadata": {
    "collapsed": true
   },
   "outputs": [],
   "source": []
  },
  {
   "cell_type": "code",
   "execution_count": null,
   "metadata": {
    "collapsed": true
   },
   "outputs": [],
   "source": []
  },
  {
   "cell_type": "code",
   "execution_count": null,
   "metadata": {
    "collapsed": true
   },
   "outputs": [],
   "source": []
  },
  {
   "cell_type": "code",
   "execution_count": null,
   "metadata": {
    "collapsed": true
   },
   "outputs": [],
   "source": []
  },
  {
   "cell_type": "code",
   "execution_count": null,
   "metadata": {
    "collapsed": true
   },
   "outputs": [],
   "source": []
  },
  {
   "cell_type": "code",
   "execution_count": null,
   "metadata": {
    "collapsed": true
   },
   "outputs": [],
   "source": []
  },
  {
   "cell_type": "code",
   "execution_count": null,
   "metadata": {
    "collapsed": true
   },
   "outputs": [],
   "source": []
  },
  {
   "cell_type": "code",
   "execution_count": null,
   "metadata": {
    "collapsed": true
   },
   "outputs": [],
   "source": []
  },
  {
   "cell_type": "code",
   "execution_count": null,
   "metadata": {
    "collapsed": true
   },
   "outputs": [],
   "source": []
  },
  {
   "cell_type": "code",
   "execution_count": null,
   "metadata": {
    "collapsed": true
   },
   "outputs": [],
   "source": []
  },
  {
   "cell_type": "code",
   "execution_count": 31,
   "metadata": {
    "collapsed": false
   },
   "outputs": [
    {
     "data": {
      "image/png": "[encoded data removed]",
      "text/latex": [
       "$$1.0^{- \\alpha + 1} k^{\\alpha} s - k \\left(\\delta + g + n\\right)$$"
      ],
      "text/plain": [
       "   -α + 1  α                  \n",
       "1.0      ⋅k ⋅s - k⋅(δ + g + n)"
      ]
     },
     "execution_count": 31,
     "metadata": {},
     "output_type": "execute_result"
    }
   ],
   "source": [
    "from sympy import simplify\n",
    "simplify(cobb_douglas_model.k_dot)"
   ]
  },
  {
   "cell_type": "code",
   "execution_count": null,
   "metadata": {
    "collapsed": true
   },
   "outputs": [],
   "source": []
  },
  {
   "cell_type": "code",
   "execution_count": 21,
   "metadata": {
    "collapsed": false
   },
   "outputs": [
    {
     "name": "stdout",
     "output_type": "stream",
     "text": [
      "8 \\sqrt{2} \\tau^{\\frac{7}{2}}\n"
     ]
    }
   ],
   "source": [
    "from sympy import latex, pi, sin, asin, Integral, Matrix, Rational\n",
    "from sympy.abc import x, y, mu, r, tau\n",
    "print(latex((2*tau)**Rational(7,2)))"
   ]
  },
  {
   "cell_type": "code",
   "execution_count": null,
   "metadata": {
    "collapsed": true
   },
   "outputs": [],
   "source": []
  },
  {
   "cell_type": "code",
   "execution_count": null,
   "metadata": {
    "collapsed": true
   },
   "outputs": [],
   "source": []
  },
  {
   "cell_type": "code",
   "execution_count": null,
   "metadata": {
    "collapsed": true
   },
   "outputs": [],
   "source": []
  }
 ],
 "metadata": {
  "kernelspec": {
   "display_name": "Python 3",
   "language": "python",
   "name": "python3"
  },
  "language_info": {
   "codemirror_mode": {
    "name": "ipython",
    "version": 3
   },
   "file_extension": ".py",
   "mimetype": "text/x-python",
   "name": "python",
   "nbconvert_exporter": "python",
   "pygments_lexer": "ipython3",
   "version": "3.5.1"
  }
 },
 "nbformat": 4,
 "nbformat_minor": 0
}
