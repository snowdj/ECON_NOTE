{
 "cells": [
  {
   "cell_type": "code",
   "execution_count": 1,
   "metadata": {
    "collapsed": true
   },
   "outputs": [],
   "source": [
    "PW311_ValueIteration <- function(probs, payoff, discount,\n",
    "eps=0.00001, maxlter=1000){\n",
    "# Initialization\n",
    "numStates <- length(payoff)\n",
    "oldV <- numeric(numStates)\n",
    "newV <- numeric(numStates)\n",
    "myeps <- eps*(1-discount)/2/discount\n",
    "stopit <- FALSE\n",
    "count <- 0\n",
    "# precompute invariant discounted probs\n",
    "dprobStay <- discount*probs\n",
    "dprobMove <- discount*(1-probs)\n",
    "# we have to decide only in interior states\n",
    "indexVet <- 2:(numStates-1)\n",
    "norm2 <- function(v) {return(sqrt(sum(vA2)))}\n",
    "# value iteration\n",
    "while (!stopit){\n",
    "count <- count + 1\n",
    "# update: first and last state are apart\n",
    "newV[1] <- dprobStay[1]*oldV[1]+dprobMove[1]*oldV[2]\n",
    "valueFlush <- payoff[indexVet] + discount*oldV[1]\n",
    "valueWait <- dprobStay[indexVet]*oldV[indexVet]+\n",
    "dprobMove[indexVet]*oldV[indexVet+1]\n",
    "newV[indexVet] <- pmax(valueWait,valueFlush )\n",
    "newV[numStates] <- payoff[numStates] + discount*oldV[1]\n",
    "if ((max(newV-oldV)<myeps) || (count > maxlter))\n",
    "stopit <- TRUE\n",
    "else\n",
    "oldV <- newV\n",
    "}\n",
    "# return state values and policy vector (l->flush is true)\n",
    "return (list(stateValues=newV,\n",
    "policy=c(0,valueFlush>valueWait,1)))\n",
    "}"
   ]
  },
  {
   "cell_type": "code",
   "execution_count": 2,
   "metadata": {
    "collapsed": false
   },
   "outputs": [
    {
     "data": {
      "text/html": [
       "<dl>\n",
       "\t<dt>$stateValues</dt>\n",
       "\t\t<dd><ol class=list-inline>\n",
       "\t<li>60.5196934148449</li>\n",
       "\t<li>68.4828116042833</li>\n",
       "\t<li>77.4937085028583</li>\n",
       "\t<li>87.4937085028583</li>\n",
       "</ol>\n",
       "</dd>\n",
       "\t<dt>$policy</dt>\n",
       "\t\t<dd><ol class=list-inline>\n",
       "\t<li>0</li>\n",
       "\t<li>0</li>\n",
       "\t<li>1</li>\n",
       "\t<li>1</li>\n",
       "</ol>\n",
       "</dd>\n",
       "</dl>\n"
      ],
      "text/latex": [
       "\\begin{description}\n",
       "\\item[\\$stateValues] \\begin{enumerate*}\n",
       "\\item 60.5196934148449\n",
       "\\item 68.4828116042833\n",
       "\\item 77.4937085028583\n",
       "\\item 87.4937085028583\n",
       "\\end{enumerate*}\n",
       "\n",
       "\\item[\\$policy] \\begin{enumerate*}\n",
       "\\item 0\n",
       "\\item 0\n",
       "\\item 1\n",
       "\\item 1\n",
       "\\end{enumerate*}\n",
       "\n",
       "\\end{description}\n"
      ],
      "text/markdown": [
       "$stateValues\n",
       ":   1. 60.5196934148449\n",
       "2. 68.4828116042833\n",
       "3. 77.4937085028583\n",
       "4. 87.4937085028583\n",
       "\n",
       "\n",
       "\n",
       "$policy\n",
       ":   1. 0\n",
       "2. 0\n",
       "3. 1\n",
       "4. 1\n",
       "\n",
       "\n",
       "\n",
       "\n",
       "\n"
      ],
      "text/plain": [
       "$stateValues\n",
       "[1] 60.51969 68.48281 77.49371 87.49371\n",
       "\n",
       "$policy\n",
       "[1] 0 0 1 1\n"
      ]
     },
     "execution_count": 2,
     "metadata": {},
     "output_type": "execute_result"
    }
   ],
   "source": [
    "probs = c ( .6, .6, .6,0)\n",
    "payoff = c (0, 10, 20, 30)\n",
    "discount=.95\n",
    "out <- PW311_ValueIteration(probs, payoff, discount)\n",
    "out"
   ]
  },
  {
   "cell_type": "code",
   "execution_count": 3,
   "metadata": {
    "collapsed": false
   },
   "outputs": [
    {
     "data": {
      "text/html": [
       "<dl>\n",
       "\t<dt>$stateValues</dt>\n",
       "\t\t<dd><ol class=list-inline>\n",
       "\t<li>342.112245955127</li>\n",
       "\t<li>350.751815388816</li>\n",
       "\t<li>359.609555767801</li>\n",
       "\t<li>368.690976459386</li>\n",
       "</ol>\n",
       "</dd>\n",
       "\t<dt>$policy</dt>\n",
       "\t\t<dd><ol class=list-inline>\n",
       "\t<li>0</li>\n",
       "\t<li>0</li>\n",
       "\t<li>0</li>\n",
       "\t<li>1</li>\n",
       "</ol>\n",
       "</dd>\n",
       "</dl>\n"
      ],
      "text/latex": [
       "\\begin{description}\n",
       "\\item[\\$stateValues] \\begin{enumerate*}\n",
       "\\item 342.112245955127\n",
       "\\item 350.751815388816\n",
       "\\item 359.609555767801\n",
       "\\item 368.690976459386\n",
       "\\end{enumerate*}\n",
       "\n",
       "\\item[\\$policy] \\begin{enumerate*}\n",
       "\\item 0\n",
       "\\item 0\n",
       "\\item 0\n",
       "\\item 1\n",
       "\\end{enumerate*}\n",
       "\n",
       "\\end{description}\n"
      ],
      "text/markdown": [
       "$stateValues\n",
       ":   1. 342.112245955127\n",
       "2. 350.751815388816\n",
       "3. 359.609555767801\n",
       "4. 368.690976459386\n",
       "\n",
       "\n",
       "\n",
       "$policy\n",
       ":   1. 0\n",
       "2. 0\n",
       "3. 0\n",
       "4. 1\n",
       "\n",
       "\n",
       "\n",
       "\n",
       "\n"
      ],
      "text/plain": [
       "$stateValues\n",
       "[1] 342.1122 350.7518 359.6096 368.6910\n",
       "\n",
       "$policy\n",
       "[1] 0 0 0 1\n"
      ]
     },
     "execution_count": 3,
     "metadata": {},
     "output_type": "execute_result"
    }
   ],
   "source": [
    "probs = c ( .6, .6, .6, 0)\n",
    "payoff = c (0, 10, 20, 30)\n",
    "discount=.99\n",
    "out <- PW311_ValueIteration(probs, payoff, discount)\n",
    "out"
   ]
  },
  {
   "cell_type": "code",
   "execution_count": null,
   "metadata": {
    "collapsed": true
   },
   "outputs": [],
   "source": []
  },
  {
   "cell_type": "code",
   "execution_count": null,
   "metadata": {
    "collapsed": true
   },
   "outputs": [],
   "source": []
  }
 ],
 "metadata": {
  "kernelspec": {
   "display_name": "R",
   "language": "R",
   "name": "ir"
  },
  "language_info": {
   "codemirror_mode": "r",
   "file_extension": ".r",
   "mimetype": "text/x-r-source",
   "name": "R",
   "pygments_lexer": "r",
   "version": "3.2.1"
  }
 },
 "nbformat": 4,
 "nbformat_minor": 0
}
